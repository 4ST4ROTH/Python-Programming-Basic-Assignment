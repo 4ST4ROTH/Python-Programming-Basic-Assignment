{
 "cells": [
  {
   "cell_type": "markdown",
   "id": "6f35e50d",
   "metadata": {},
   "source": [
    "\n",
    "\n",
    "# Write a Python program to check if the given number is a Disarium Number?"
   ]
  },
  {
   "cell_type": "code",
   "execution_count": 1,
   "id": "96a38f69",
   "metadata": {},
   "outputs": [],
   "source": [
    "def count_no(num):\n",
    "    count = 0\n",
    "    while num > 0:\n",
    "        count += 1\n",
    "        num = int(num/10)\n",
    "        \n",
    "    return count\n",
    "\n",
    "def check_disarium(num):\n",
    "    sum = 0\n",
    "    n = num\n",
    "    while n > 0:\n",
    "        count = count_no(n)\n",
    "        rem = n%10\n",
    "        sum = sum + (rem**count)\n",
    "        n = int(n/10)\n",
    "\n",
    "    if num == sum:\n",
    "        print(num ,\"is a disarium number\")\n",
    "        \n",
    "    else:\n",
    "        print(num ,\" is not a disarium number\")"
   ]
  },
  {
   "cell_type": "code",
   "execution_count": 2,
   "id": "06b9f2dc",
   "metadata": {},
   "outputs": [
    {
     "name": "stdout",
     "output_type": "stream",
     "text": [
      "133  is not a disarium number\n"
     ]
    }
   ],
   "source": [
    "check_disarium(133)"
   ]
  },
  {
   "cell_type": "markdown",
   "id": "5255f2de",
   "metadata": {},
   "source": [
    "# 2. Write a Python program to print all disarium numbers between 1 to 100?"
   ]
  },
  {
   "cell_type": "code",
   "execution_count": 38,
   "id": "4143856b",
   "metadata": {},
   "outputs": [],
   "source": [
    "def disarium_no_till(num):\n",
    "    sum = 0\n",
    "    n = num\n",
    "    for i in range(0,num):\n",
    "        d = check_disarium(i)\n",
    "        \n",
    "    \n",
    "        "
   ]
  },
  {
   "cell_type": "code",
   "execution_count": 39,
   "id": "518b4e1f",
   "metadata": {},
   "outputs": [
    {
     "name": "stdout",
     "output_type": "stream",
     "text": [
      "0 is a disarium number\n",
      "1 is a disarium number\n",
      "2 is a disarium number\n",
      "3 is a disarium number\n",
      "4 is a disarium number\n",
      "5 is a disarium number\n",
      "6 is a disarium number\n",
      "7 is a disarium number\n",
      "8 is a disarium number\n",
      "9 is a disarium number\n",
      "10  is not a disarium number\n",
      "11  is not a disarium number\n",
      "12  is not a disarium number\n",
      "13  is not a disarium number\n",
      "14  is not a disarium number\n",
      "15  is not a disarium number\n",
      "16  is not a disarium number\n",
      "17  is not a disarium number\n",
      "18  is not a disarium number\n",
      "19  is not a disarium number\n",
      "20  is not a disarium number\n",
      "21  is not a disarium number\n",
      "22  is not a disarium number\n",
      "23  is not a disarium number\n",
      "24  is not a disarium number\n",
      "25  is not a disarium number\n",
      "26  is not a disarium number\n",
      "27  is not a disarium number\n",
      "28  is not a disarium number\n",
      "29  is not a disarium number\n",
      "30  is not a disarium number\n",
      "31  is not a disarium number\n",
      "32  is not a disarium number\n",
      "33  is not a disarium number\n",
      "34  is not a disarium number\n",
      "35  is not a disarium number\n",
      "36  is not a disarium number\n",
      "37  is not a disarium number\n",
      "38  is not a disarium number\n",
      "39  is not a disarium number\n",
      "40  is not a disarium number\n",
      "41  is not a disarium number\n",
      "42  is not a disarium number\n",
      "43  is not a disarium number\n",
      "44  is not a disarium number\n",
      "45  is not a disarium number\n",
      "46  is not a disarium number\n",
      "47  is not a disarium number\n",
      "48  is not a disarium number\n",
      "49  is not a disarium number\n",
      "50  is not a disarium number\n",
      "51  is not a disarium number\n",
      "52  is not a disarium number\n",
      "53  is not a disarium number\n",
      "54  is not a disarium number\n",
      "55  is not a disarium number\n",
      "56  is not a disarium number\n",
      "57  is not a disarium number\n",
      "58  is not a disarium number\n",
      "59  is not a disarium number\n",
      "60  is not a disarium number\n",
      "61  is not a disarium number\n",
      "62  is not a disarium number\n",
      "63  is not a disarium number\n",
      "64  is not a disarium number\n",
      "65  is not a disarium number\n",
      "66  is not a disarium number\n",
      "67  is not a disarium number\n",
      "68  is not a disarium number\n",
      "69  is not a disarium number\n",
      "70  is not a disarium number\n",
      "71  is not a disarium number\n",
      "72  is not a disarium number\n",
      "73  is not a disarium number\n",
      "74  is not a disarium number\n",
      "75  is not a disarium number\n",
      "76  is not a disarium number\n",
      "77  is not a disarium number\n",
      "78  is not a disarium number\n",
      "79  is not a disarium number\n",
      "80  is not a disarium number\n",
      "81  is not a disarium number\n",
      "82  is not a disarium number\n",
      "83  is not a disarium number\n",
      "84  is not a disarium number\n",
      "85  is not a disarium number\n",
      "86  is not a disarium number\n",
      "87  is not a disarium number\n",
      "88  is not a disarium number\n",
      "89 is a disarium number\n",
      "90  is not a disarium number\n",
      "91  is not a disarium number\n",
      "92  is not a disarium number\n",
      "93  is not a disarium number\n",
      "94  is not a disarium number\n",
      "95  is not a disarium number\n",
      "96  is not a disarium number\n",
      "97  is not a disarium number\n",
      "98  is not a disarium number\n",
      "99  is not a disarium number\n"
     ]
    }
   ],
   "source": [
    "disarium_no_till(100)"
   ]
  },
  {
   "cell_type": "code",
   "execution_count": 3,
   "id": "4816bbd0",
   "metadata": {},
   "outputs": [],
   "source": [
    ":\n",
    "    def show_disarium_no(num):\n",
    "    l = []\n",
    "    sum = 0\n",
    "    n = num\n",
    "    for i in range(n):\n",
    "        while n > 0:\n",
    "            count = count_no(n)\n",
    "            rem = n%10\n",
    "            sum = sum + (rem**count)\n",
    "            n = int(num/10)\n",
    "            continue\n",
    "            \n",
    "        if num == sum:\n",
    "            l.append(num)\n",
    "        else:\n",
    "            pass\n",
    "  \n",
    "    print(l)"
   ]
  },
  {
   "cell_type": "code",
   "execution_count": 4,
   "id": "0ba6ad13",
   "metadata": {},
   "outputs": [
    {
     "name": "stdout",
     "output_type": "stream",
     "text": [
      "[3, 3, 3]\n"
     ]
    }
   ],
   "source": [
    "show_disarium_no(3)"
   ]
  },
  {
   "cell_type": "markdown",
   "id": "dc4baa35",
   "metadata": {},
   "source": [
    "# Write a Python program to check if the given number is Happy Number?"
   ]
  },
  {
   "cell_type": "code",
   "execution_count": 5,
   "id": "de357e48",
   "metadata": {},
   "outputs": [],
   "source": [
    "def find_happy_no(num):\n",
    "    \n",
    "    n = str(num) \n",
    "    h = 0\n",
    "    for i in n:\n",
    "        n_int = int(i)\n",
    "        h = h + n_int**2\n",
    "    if h == 1:\n",
    "        h = True\n",
    "        print(\"It is a happy number.\")\n",
    "    elif 1 < h < 10:\n",
    "        h = False\n",
    "        print(\"It is not a happy number\")\n",
    "    else:\n",
    "        find_happy_no(h)   "
   ]
  },
  {
   "cell_type": "code",
   "execution_count": 6,
   "id": "115d0d6b",
   "metadata": {},
   "outputs": [
    {
     "name": "stdout",
     "output_type": "stream",
     "text": [
      "It is not a happy number\n"
     ]
    }
   ],
   "source": [
    "find_happy_no(11)"
   ]
  },
  {
   "cell_type": "code",
   "execution_count": 7,
   "id": "4f2dd7c4",
   "metadata": {},
   "outputs": [
    {
     "name": "stdout",
     "output_type": "stream",
     "text": [
      "It is a happy number.\n"
     ]
    }
   ],
   "source": [
    "find_happy_no(86)"
   ]
  },
  {
   "cell_type": "markdown",
   "id": "d8fa316d",
   "metadata": {},
   "source": [
    "# Write a Python program to print all happy numbers between 1 and 100?"
   ]
  },
  {
   "cell_type": "code",
   "execution_count": 30,
   "id": "56d5f297",
   "metadata": {},
   "outputs": [
    {
     "name": "stdout",
     "output_type": "stream",
     "text": [
      "1\n",
      " \n",
      "7\n",
      " \n",
      "10\n",
      " \n",
      "13\n",
      " \n",
      "19\n",
      " \n",
      "23\n",
      " \n",
      "28\n",
      " \n",
      "31\n",
      " \n",
      "32\n",
      " \n",
      "44\n",
      " \n",
      "49\n",
      " \n",
      "68\n",
      " \n",
      "70\n",
      " \n",
      "79\n",
      " \n",
      "82\n",
      " \n",
      "86\n",
      " \n",
      "91\n",
      " \n",
      "94\n",
      " \n",
      "97\n",
      " \n",
      "100\n",
      " \n"
     ]
    }
   ],
   "source": [
    "def HappyNumber(num):    \n",
    "    rem = sum = 0;    \n",
    "        \n",
    "    while(num > 0):    \n",
    "        rem = num%10;    \n",
    "        sum = sum + (rem*rem);    \n",
    "        num = num//10;    \n",
    "    return sum;    \n",
    "            \n",
    "for i in range(1, 101):    \n",
    "    result = i;    \n",
    "        \n",
    "   \n",
    "    while(result != 1 and result != 4):    \n",
    "        result = HappyNumber(result);    \n",
    "        \n",
    "    if(result == 1):    \n",
    "        print(i),    \n",
    "        print(\" \"),  "
   ]
  },
  {
   "cell_type": "markdown",
   "id": "917bad84",
   "metadata": {},
   "source": [
    "# Write a Python program to determine whether the given number is a Harshad Number?"
   ]
  },
  {
   "cell_type": "code",
   "execution_count": 44,
   "id": "7efdc2a0",
   "metadata": {},
   "outputs": [],
   "source": [
    "def finding_sum_of_digits(num):\n",
    "    rem=sum=0\n",
    "    while (num>0):\n",
    "        rem = num%10\n",
    "        sum = sum + (rem)\n",
    "        num = num//10\n",
    "    return sum\n",
    "\n",
    "def harshad_no(num):\n",
    "    if num%finding_sum_of_digits(num) == 0:\n",
    "        print(num,\"is harshad number\")\n",
    "    else:\n",
    "        print(num,\"is not harshad number\")"
   ]
  },
  {
   "cell_type": "code",
   "execution_count": 45,
   "id": "2c88168c",
   "metadata": {},
   "outputs": [
    {
     "name": "stdout",
     "output_type": "stream",
     "text": [
      "18 is harshad number\n"
     ]
    }
   ],
   "source": [
    "harshad_no(18)"
   ]
  },
  {
   "cell_type": "markdown",
   "id": "21664fe4",
   "metadata": {},
   "source": [
    "# Write a Python program to print all pronic numbers between 1 and 100?"
   ]
  },
  {
   "cell_type": "code",
   "execution_count": 118,
   "id": "2b00e619",
   "metadata": {},
   "outputs": [],
   "source": [
    "def pronic_no(num):\n",
    "    l = []\n",
    "    for i in list(range(0,10)):\n",
    "        i2 = i+1\n",
    "        p = i*i2\n",
    "        l.append(p)\n",
    "    if num in l:\n",
    "        return num\n",
    "    else:\n",
    "        pass\n",
    "    "
   ]
  },
  {
   "cell_type": "code",
   "execution_count": 125,
   "id": "2f728550",
   "metadata": {},
   "outputs": [],
   "source": [
    "def pronic_no_till(num):\n",
    "    pronic_no1 = []\n",
    "    for i in list(range(num)):\n",
    "        a_ = pronic_no(i)\n",
    "        if a_ == i:\n",
    "            pronic_no1.append(i)\n",
    "        else:\n",
    "            pass\n",
    "    return pronic_no1"
   ]
  },
  {
   "cell_type": "code",
   "execution_count": 126,
   "id": "e22cc1b2",
   "metadata": {},
   "outputs": [
    {
     "data": {
      "text/plain": [
       "[0, 2, 6, 12, 20, 30, 42, 56, 72, 90]"
      ]
     },
     "execution_count": 126,
     "metadata": {},
     "output_type": "execute_result"
    }
   ],
   "source": [
    "pronic_no_till(100)"
   ]
  },
  {
   "cell_type": "code",
   "execution_count": null,
   "id": "004ddfe3",
   "metadata": {},
   "outputs": [],
   "source": []
  }
 ],
 "metadata": {
  "kernelspec": {
   "display_name": "Python 3 (ipykernel)",
   "language": "python",
   "name": "python3"
  },
  "language_info": {
   "codemirror_mode": {
    "name": "ipython",
    "version": 3
   },
   "file_extension": ".py",
   "mimetype": "text/x-python",
   "name": "python",
   "nbconvert_exporter": "python",
   "pygments_lexer": "ipython3",
   "version": "3.9.7"
  }
 },
 "nbformat": 4,
 "nbformat_minor": 5
}
