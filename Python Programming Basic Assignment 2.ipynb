{
 "cells": [
  {
   "cell_type": "markdown",
   "id": "f545e57d",
   "metadata": {},
   "source": [
    "\n",
    "# Write a Python program to convert kilometers to miles?\n"
   ]
  },
  {
   "cell_type": "code",
   "execution_count": 11,
   "id": "e2d1b5eb",
   "metadata": {},
   "outputs": [
    {
     "name": "stdout",
     "output_type": "stream",
     "text": [
      "provide the distance in kilometer here1\n",
      "converted distance in miles is  0.621371192237334\n"
     ]
    }
   ],
   "source": [
    "#d(mi) = d(km) / 1.609344\n",
    "km = int(input(\"provide the distance in kilometer here\"))\n",
    "if type(km) == int:\n",
    "    miles = km/1.609344\n",
    "    print(\"converted distance in miles is \" , miles)\n",
    "else:\n",
    "    print(\"please provide a valid input \")"
   ]
  },
  {
   "cell_type": "markdown",
   "id": "b2078a7f",
   "metadata": {},
   "source": [
    "# Write a Python program to convert Celsius to Fahrenheit?\n"
   ]
  },
  {
   "cell_type": "code",
   "execution_count": 12,
   "id": "b11b1e6a",
   "metadata": {},
   "outputs": [
    {
     "name": "stdout",
     "output_type": "stream",
     "text": [
      "provide temperature in celcius26\n",
      "temperature in fahrenheit is 78.8\n"
     ]
    }
   ],
   "source": [
    "#°F = (°C × 9/5) + 32 \n",
    "c = int(input(\"provide temperature in celcius\"))\n",
    "if type(c) == int:\n",
    "    f = c*9/5 + 32\n",
    "    print(\"temperature in fahrenheit is\", f)\n",
    "else:\n",
    "    print(\"invalid input\")"
   ]
  },
  {
   "cell_type": "markdown",
   "id": "933cc620",
   "metadata": {},
   "source": [
    "# Write a Python program to display calendar?\n"
   ]
  },
  {
   "cell_type": "code",
   "execution_count": 15,
   "id": "babe20a4",
   "metadata": {},
   "outputs": [
    {
     "name": "stdout",
     "output_type": "stream",
     "text": [
      "   February 2022\n",
      "Mo Tu We Th Fr Sa Su\n",
      "    1  2  3  4  5  6\n",
      " 7  8  9 10 11 12 13\n",
      "14 15 16 17 18 19 20\n",
      "21 22 23 24 25 26 27\n",
      "28\n",
      "\n"
     ]
    }
   ],
   "source": [
    "import calendar\n",
    "\n",
    "yy = 2022\n",
    "mm = 2\n",
    "\n",
    "print(calendar.month(yy,mm))"
   ]
  },
  {
   "cell_type": "markdown",
   "id": "8bee55bf",
   "metadata": {},
   "source": [
    "# Write a Python program to solve quadratic equation?\n"
   ]
  },
  {
   "cell_type": "code",
   "execution_count": 1,
   "id": "2f4424d9",
   "metadata": {},
   "outputs": [],
   "source": [
    "import cmath"
   ]
  },
  {
   "cell_type": "code",
   "execution_count": 5,
   "id": "493641a1",
   "metadata": {},
   "outputs": [
    {
     "name": "stdout",
     "output_type": "stream",
     "text": [
      "Provide the coefficient of x² ant in tha quadratic equation2\n",
      "Provide the coefficient of x ant in tha quadratic equation2\n",
      "provide the value of constant in tha quadratic equation1\n",
      "the roots are (-0.5+0.5j) (-0.5-0.5j)\n"
     ]
    }
   ],
   "source": [
    "a = int(input(\"Provide the coefficient of x² ant in tha quadratic equation\"))\n",
    "b = int(input(\"Provide the coefficient of x ant in tha quadratic equation\"))\n",
    "c = int(input(\"provide the value of constant in tha quadratic equation\"))\n",
    "\n",
    "dis = (b**2) - (4*a*c)\n",
    "\n",
    "root1 = (-b + cmath.sqrt(dis))/(2*a)\n",
    "root2 = (-b - cmath.sqrt(dis))/(2*a)\n",
    "\n",
    "print(\"the roots are\", root1 , root2)"
   ]
  },
  {
   "cell_type": "markdown",
   "id": "e48bac64",
   "metadata": {},
   "source": [
    "# Write a Python program to swap two variables without temp variable?\n"
   ]
  },
  {
   "cell_type": "code",
   "execution_count": null,
   "id": "ea5942bc",
   "metadata": {},
   "outputs": [],
   "source": [
    "variable1 = int(input(\"input the value of variable1 here\"))\n",
    "variable2 = int(input(\"input the value of variable2 here\"))\n",
    "\n",
    "variable1 , variable2 = variable2 , variable1\n",
    "\n",
    "print(\"Value of both variables after swap\", )"
   ]
  }
 ],
 "metadata": {
  "kernelspec": {
   "display_name": "Python 3 (ipykernel)",
   "language": "python",
   "name": "python3"
  },
  "language_info": {
   "codemirror_mode": {
    "name": "ipython",
    "version": 3
   },
   "file_extension": ".py",
   "mimetype": "text/x-python",
   "name": "python",
   "nbconvert_exporter": "python",
   "pygments_lexer": "ipython3",
   "version": "3.9.7"
  }
 },
 "nbformat": 4,
 "nbformat_minor": 5
}
