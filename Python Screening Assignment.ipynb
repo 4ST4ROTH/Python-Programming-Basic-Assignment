{
 "cells": [
  {
   "cell_type": "markdown",
   "id": "c4af07c1",
   "metadata": {},
   "source": [
    "# Create a function in python to read the text file and replace specific content"
   ]
  },
  {
   "cell_type": "code",
   "execution_count": 11,
   "id": "f8f61fe1",
   "metadata": {},
   "outputs": [
    {
     "name": "stdout",
     "output_type": "stream",
     "text": [
      "Enter the text that will replace screening\n",
      "Enter the text to be replaced placement\n",
      "Enter the .txt format file name here test_\n",
      "Text successfully replaced\n"
     ]
    }
   ],
   "source": [
    "x = input('Enter the text that will replace ')\n",
    "y = input('Enter the text to be replaced ')\n",
    "z = input('Enter the .txt format file name here ')\n",
    "file = z+'.txt'\n",
    "#opening the .txt file\n",
    "f = open(file,'r+') \n",
    "\n",
    "#With this each sentence in the file becomes element of the list\n",
    "list_sentences = f.readlines()\n",
    "\n",
    "#looping through the lines to find the text to be replaced and replace it with the provided text\n",
    "c = 0\n",
    "for line in list_sentences:\n",
    "    if y in line:\n",
    "        replacement = line.replace(y,x)\n",
    "        list_sentences = replacement\n",
    "    c+=1\n",
    "    f.seek(0)\n",
    "   \n",
    "# The pre-existing text is erased\n",
    "f.truncate(0)\n",
    "\n",
    "# Replacing the old text\n",
    "f.writelines(list_sentences)\n",
    "f.close()\n",
    "print('Text successfully replaced')"
   ]
  },
  {
   "cell_type": "markdown",
   "id": "9a6326cc",
   "metadata": {},
   "source": [
    "# Demonstrate use of abstract class, multiple inheritance and decorator in\n",
    "# python using examples.\n"
   ]
  },
  {
   "cell_type": "markdown",
   "id": "fc9adc6b",
   "metadata": {},
   "source": [
    "Abstract class is useful when working in a large team or with a large code-base where keeping all classes in your mind is difficult or not possible. "
   ]
  },
  {
   "cell_type": "code",
   "execution_count": 12,
   "id": "c99dd800",
   "metadata": {
    "scrolled": true
   },
   "outputs": [
    {
     "name": "stdout",
     "output_type": "stream",
     "text": [
      "I have 3 sides\n",
      "I have 4 sides\n",
      "I have 5 sides\n",
      "I have 6 sides\n"
     ]
    }
   ],
   "source": [
    "# Python program showing\n",
    "# abstract base class work\n",
    "\n",
    "from abc import ABC, abstractmethod\n",
    "\n",
    "class Polygon(ABC):\n",
    "\n",
    "    @abstractmethod\n",
    "    def noofsides(self):\n",
    "        pass\n",
    "\n",
    "class Triangle(Polygon):\n",
    "\n",
    "    # overriding abstract method\n",
    "    def noofsides(self):\n",
    "        print(\"I have 3 sides\")\n",
    "\n",
    "class Pentagon(Polygon):\n",
    "\n",
    "    # overriding abstract method\n",
    "    def noofsides(self):\n",
    "        print(\"I have 5 sides\")\n",
    "\n",
    "class Hexagon(Polygon):\n",
    "\n",
    "    # overriding abstract method\n",
    "    def noofsides(self):\n",
    "        print(\"I have 6 sides\")\n",
    "\n",
    "class Quadrilateral(Polygon):\n",
    "\n",
    "    # overriding abstract method\n",
    "    def noofsides(self):\n",
    "        print(\"I have 4 sides\")\n",
    "\n",
    "# Driver code\n",
    "R = Triangle()\n",
    "R.noofsides()\n",
    "\n",
    "K = Quadrilateral()\n",
    "K.noofsides()\n",
    "\n",
    "R = Pentagon()\n",
    "R.noofsides()\n",
    "\n",
    "K = Hexagon()\n",
    "K.noofsides()\n"
   ]
  },
  {
   "cell_type": "code",
   "execution_count": 13,
   "id": "a150a724",
   "metadata": {},
   "outputs": [],
   "source": [
    "class xyz():                                  # multi class inheritence\n",
    "    def __init__(self, a,b,c):\n",
    "        self.a = a\n",
    "        self.b = b\n",
    "        self.c = c\n",
    "        \n",
    "    def test(self):\n",
    "        print(\"this is a meth of class xyz\")\n",
    "        \n",
    "class xyz1:\n",
    "    \n",
    "    def __init__(self,q,p,v):\n",
    "        self.q = q\n",
    "        self.p = p\n",
    "        self.v = v\n",
    "        \n",
    "    def test1(self):\n",
    "        print(\"this is a meth on class xyz1\")\n",
    "        \n",
    "class child(xyz,xyz1):\n",
    "    pass\n",
    "        \n",
    "class child1(xyz1,xyz):\n",
    "    pass\n",
    "\n",
    "class child2(xyz1,xyz):        #inheriting variables of both parent class\n",
    "    def __init__(self, *args, **kwargs):\n",
    "        xyz.__init__(self, *args)\n",
    "        xyz1.__init__(self, **kwargs)\n",
    "        \n",
    "        "
   ]
  },
  {
   "cell_type": "markdown",
   "id": "707b63bc",
   "metadata": {},
   "source": [
    "Decorators allows us to modify the behaviour of a function or class"
   ]
  },
  {
   "cell_type": "code",
   "execution_count": 14,
   "id": "97fedc30",
   "metadata": {},
   "outputs": [
    {
     "name": "stdout",
     "output_type": "stream",
     "text": [
      "HELLO\n",
      "HELLO\n"
     ]
    }
   ],
   "source": [
    "# Python program to illustrate functions\n",
    "# can be treated as objects\n",
    "def shout(text):\n",
    "\treturn text.upper()\n",
    "\n",
    "print(shout('Hello'))\n",
    "\n",
    "yell = shout\n",
    "\n",
    "print(yell('Hello'))\n"
   ]
  },
  {
   "cell_type": "code",
   "execution_count": 15,
   "id": "71960644",
   "metadata": {},
   "outputs": [
    {
     "name": "stdout",
     "output_type": "stream",
     "text": [
      "HI, I AM CREATED BY A FUNCTION PASSED AS AN ARGUMENT.\n",
      "hi, i am created by a function passed as an argument.\n"
     ]
    }
   ],
   "source": [
    "# Python program to illustrate functions\n",
    "# can be passed as arguments to other functions\n",
    "def shout(text):\n",
    "\treturn text.upper()\n",
    "\n",
    "def whisper(text):\n",
    "\treturn text.lower()\n",
    "\n",
    "def greet(func):\n",
    "\t# storing the function in a variable\n",
    "\tgreeting = func(\"\"\"Hi, I am created by a function passed as an argument.\"\"\")\n",
    "\tprint (greeting)\n",
    "\n",
    "greet(shout)\n",
    "greet(whisper)\n"
   ]
  },
  {
   "cell_type": "code",
   "execution_count": 16,
   "id": "cfaf58c3",
   "metadata": {},
   "outputs": [
    {
     "name": "stdout",
     "output_type": "stream",
     "text": [
      "25\n"
     ]
    }
   ],
   "source": [
    "# Python program to illustrate functions\n",
    "# Functions can return another function\n",
    "\n",
    "def create_adder(x):\n",
    "\tdef adder(y):\n",
    "\t\treturn x+y\n",
    "\n",
    "\treturn adder\n",
    "\n",
    "add_15 = create_adder(15)\n",
    "\n",
    "print(add_15(10))\n"
   ]
  },
  {
   "cell_type": "code",
   "execution_count": null,
   "id": "cd6ac65b",
   "metadata": {},
   "outputs": [],
   "source": []
  }
 ],
 "metadata": {
  "kernelspec": {
   "display_name": "Python 3 (ipykernel)",
   "language": "python",
   "name": "python3"
  },
  "language_info": {
   "codemirror_mode": {
    "name": "ipython",
    "version": 3
   },
   "file_extension": ".py",
   "mimetype": "text/x-python",
   "name": "python",
   "nbconvert_exporter": "python",
   "pygments_lexer": "ipython3",
   "version": "3.9.7"
  }
 },
 "nbformat": 4,
 "nbformat_minor": 5
}
