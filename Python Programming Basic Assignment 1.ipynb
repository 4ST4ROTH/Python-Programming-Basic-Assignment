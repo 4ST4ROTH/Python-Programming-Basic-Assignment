{
 "cells": [
  {
   "cell_type": "markdown",
   "id": "6e86aa7d",
   "metadata": {},
   "source": [
    "# Write a Python program to print \"Hello Python\"?\n"
   ]
  },
  {
   "cell_type": "code",
   "execution_count": 1,
   "id": "1bdb0962",
   "metadata": {},
   "outputs": [
    {
     "name": "stdout",
     "output_type": "stream",
     "text": [
      "Hello Python\n"
     ]
    }
   ],
   "source": [
    "print(\"Hello Python\")"
   ]
  },
  {
   "cell_type": "markdown",
   "id": "7f19a655",
   "metadata": {},
   "source": [
    "# Write a Python program to do arithmetical operations addition and division.?\n"
   ]
  },
  {
   "cell_type": "code",
   "execution_count": 2,
   "id": "a8986962",
   "metadata": {},
   "outputs": [
    {
     "data": {
      "text/plain": [
       "11"
      ]
     },
     "execution_count": 2,
     "metadata": {},
     "output_type": "execute_result"
    }
   ],
   "source": [
    "a = 5\n",
    "b = 6\n",
    "a+b"
   ]
  },
  {
   "cell_type": "markdown",
   "id": "c0569b59",
   "metadata": {},
   "source": [
    "# Write a Python program to find the area of a triangle?\n"
   ]
  },
  {
   "cell_type": "code",
   "execution_count": 6,
   "id": "92e390ab",
   "metadata": {},
   "outputs": [
    {
     "name": "stdout",
     "output_type": "stream",
     "text": [
      "Put base of the triangle in cm here 10\n",
      "Put height of the triangle in cm here4\n",
      "Area will be 20.0 cm²\n"
     ]
    }
   ],
   "source": [
    "Base = int(input(\"Put base of the triangle in cm here \"))\n",
    "Height = int(input(\"Put height of the triangle in cm here\"))\n",
    "Area = Base*Height/2\n",
    "print(\"Area will be\", Area , \"cm²\")"
   ]
  },
  {
   "cell_type": "markdown",
   "id": "6e62ad69",
   "metadata": {},
   "source": [
    "# Write a Python program to swap two variables?\n"
   ]
  },
  {
   "cell_type": "code",
   "execution_count": 12,
   "id": "333cbaa8",
   "metadata": {},
   "outputs": [
    {
     "name": "stdout",
     "output_type": "stream",
     "text": [
      "Put variable of a here1\n",
      "Put variable of b here2\n",
      "a is  2 and b is 1\n"
     ]
    }
   ],
   "source": [
    "a = int(input(\"Put variable of a here\"))\n",
    "b = int(input(\"Put variable of b here\"))\n",
    "\n",
    "a , b = b , a\n",
    "\n",
    "print(\"a is \" , a , \"and b is\"\n",
    " , b)"
   ]
  },
  {
   "cell_type": "markdown",
   "id": "abe5198f",
   "metadata": {},
   "source": [
    "# Write a Python program to generate a random number?\n"
   ]
  },
  {
   "cell_type": "code",
   "execution_count": 13,
   "id": "ddc1d049",
   "metadata": {},
   "outputs": [],
   "source": [
    "import random"
   ]
  },
  {
   "cell_type": "code",
   "execution_count": 16,
   "id": "06ff0117",
   "metadata": {},
   "outputs": [
    {
     "ename": "SyntaxError",
     "evalue": "Missing parentheses in call to 'print'. Did you mean print(a)? (Temp/ipykernel_9988/2383016551.py, line 2)",
     "output_type": "error",
     "traceback": [
      "\u001b[1;36m  File \u001b[1;32m\"C:\\Users\\singh\\AppData\\Local\\Temp/ipykernel_9988/2383016551.py\"\u001b[1;36m, line \u001b[1;32m2\u001b[0m\n\u001b[1;33m    print a\u001b[0m\n\u001b[1;37m          ^\u001b[0m\n\u001b[1;31mSyntaxError\u001b[0m\u001b[1;31m:\u001b[0m Missing parentheses in call to 'print'. Did you mean print(a)?\n"
     ]
    }
   ],
   "source": [
    "a = random.randint(0,100)\n",
    "print a"
   ]
  },
  {
   "cell_type": "code",
   "execution_count": null,
   "id": "ec299d4e",
   "metadata": {},
   "outputs": [],
   "source": []
  }
 ],
 "metadata": {
  "kernelspec": {
   "display_name": "Python 3 (ipykernel)",
   "language": "python",
   "name": "python3"
  },
  "language_info": {
   "codemirror_mode": {
    "name": "ipython",
    "version": 3
   },
   "file_extension": ".py",
   "mimetype": "text/x-python",
   "name": "python",
   "nbconvert_exporter": "python",
   "pygments_lexer": "ipython3",
   "version": "3.9.7"
  }
 },
 "nbformat": 4,
 "nbformat_minor": 5
}
