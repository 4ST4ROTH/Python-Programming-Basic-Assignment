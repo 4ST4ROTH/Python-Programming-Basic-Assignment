{
 "cells": [
  {
   "cell_type": "markdown",
   "id": "ac308eda",
   "metadata": {},
   "source": [
    "# Write a Python Program to find sum of array?\n"
   ]
  },
  {
   "cell_type": "code",
   "execution_count": 8,
   "id": "7ab719d0",
   "metadata": {},
   "outputs": [
    {
     "name": "stdout",
     "output_type": "stream",
     "text": [
      "27960\n"
     ]
    }
   ],
   "source": [
    "a = [45,564,4353,564,345,323,3645,6575,567,5634,5345]\n",
    "\n",
    "sum = 0\n",
    "for i in a:\n",
    "    sum += i\n",
    "print(sum)"
   ]
  },
  {
   "cell_type": "markdown",
   "id": "79f6911e",
   "metadata": {},
   "source": [
    "# Write a Python Program to find largest element in an array?\n"
   ]
  },
  {
   "cell_type": "code",
   "execution_count": 9,
   "id": "655a344e",
   "metadata": {},
   "outputs": [
    {
     "name": "stdout",
     "output_type": "stream",
     "text": [
      "6575\n"
     ]
    }
   ],
   "source": [
    "a = [45,564,4353,564,345,323,3645,6575,567,5634,5345]\n",
    "\n",
    "largest = 0\n",
    "for i in a:\n",
    "    if i > largest:\n",
    "        largest = i\n",
    "    else:\n",
    "        pass\n",
    "print(largest)"
   ]
  },
  {
   "cell_type": "markdown",
   "id": "c0ce5901",
   "metadata": {},
   "source": [
    "# Write a Python Program for array rotation?\n"
   ]
  },
  {
   "cell_type": "code",
   "execution_count": 59,
   "id": "149d73ab",
   "metadata": {},
   "outputs": [
    {
     "name": "stdout",
     "output_type": "stream",
     "text": [
      "enter the term upto which you want the array rotation: 5\n",
      "[323, 3645, 6575, 567, 5634, 5345, 45, 4353, 345, 3645, 567]\n"
     ]
    }
   ],
   "source": [
    "a = [45,564,4353,564,345,323,3645,6575,567,5634,5345]\n",
    "n = int(input(\"enter the term upto which you want the array rotation: \"))\n",
    "b = []\n",
    "\n",
    "for i in range(n):\n",
    "    b.append(a[i])\n",
    "    a.remove(a[0])\n",
    "    \n",
    "for j in range(n):\n",
    "    a.append(b[j])\n",
    "    \n",
    "print(a)"
   ]
  },
  {
   "cell_type": "markdown",
   "id": "e349556e",
   "metadata": {},
   "source": [
    "# Write a Python Program to Split the array and add the first part to the end?\n"
   ]
  },
  {
   "cell_type": "code",
   "execution_count": 60,
   "id": "5d56376b",
   "metadata": {},
   "outputs": [
    {
     "name": "stdout",
     "output_type": "stream",
     "text": [
      "enter the term upto which you want to split the array: 6\n",
      "[3645, 6575, 567, 5634, 5345, 45, 4353, 345, 3645, 567, 5345]\n"
     ]
    }
   ],
   "source": [
    "a = [45,564,4353,564,345,323,3645,6575,567,5634,5345]\n",
    "n = int(input(\"enter the term upto which you want to split the array: \"))\n",
    "b = []\n",
    "\n",
    "for i in range(n):\n",
    "    b.append(a[i])\n",
    "    a.remove(a[0])\n",
    "    \n",
    "for j in range(n):\n",
    "    a.append(b[j])\n",
    "    \n",
    "print(a)"
   ]
  },
  {
   "cell_type": "markdown",
   "id": "53d45395",
   "metadata": {},
   "source": [
    "# Write a Python Program to check if given array is Monotonic?"
   ]
  },
  {
   "cell_type": "code",
   "execution_count": 20,
   "id": "3969bc89",
   "metadata": {},
   "outputs": [
    {
     "name": "stdout",
     "output_type": "stream",
     "text": [
      "Enter a valid list here : [2,3,5,6,4,3,3,5,6]\n",
      "Not Monotonic\n"
     ]
    }
   ],
   "source": [
    "array = list(input('Enter a valid list here : '))\n",
    "\n",
    "if all((array[i] <= array[i+1] for i in range(len(array)-1)) or (array[i] >= array[i+1] for i in range(len(array)-1))):\n",
    "    print(\"Monotonic\")\n",
    "else:\n",
    "    print(\"Not Monotonic\")\n",
    "     "
   ]
  }
 ],
 "metadata": {
  "kernelspec": {
   "display_name": "Python 3 (ipykernel)",
   "language": "python",
   "name": "python3"
  },
  "language_info": {
   "codemirror_mode": {
    "name": "ipython",
    "version": 3
   },
   "file_extension": ".py",
   "mimetype": "text/x-python",
   "name": "python",
   "nbconvert_exporter": "python",
   "pygments_lexer": "ipython3",
   "version": "3.9.7"
  }
 },
 "nbformat": 4,
 "nbformat_minor": 5
}
