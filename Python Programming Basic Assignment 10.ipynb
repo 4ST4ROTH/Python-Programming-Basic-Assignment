{
 "cells": [
  {
   "cell_type": "markdown",
   "id": "280c79c3",
   "metadata": {},
   "source": [
    "# Write a Python program to find sum of elements in list?"
   ]
  },
  {
   "cell_type": "code",
   "execution_count": 26,
   "id": "70a2079f",
   "metadata": {},
   "outputs": [],
   "source": [
    "def sum_list_elements(l):\n",
    "    if type(l) == list:\n",
    "        try:\n",
    "            total = 0\n",
    "            for i in l:\n",
    "                total = total + i\n",
    "                \n",
    "            return total\n",
    "        except Exception as e:\n",
    "            print(\"somethoing not right\", e)\n",
    "    else:\n",
    "        print(\"incorrect input type\")"
   ]
  },
  {
   "cell_type": "code",
   "execution_count": 27,
   "id": "7e8d441e",
   "metadata": {},
   "outputs": [],
   "source": [
    "a = [1,5,2,3,4]"
   ]
  },
  {
   "cell_type": "code",
   "execution_count": 28,
   "id": "85883f22",
   "metadata": {},
   "outputs": [
    {
     "data": {
      "text/plain": [
       "15"
      ]
     },
     "execution_count": 28,
     "metadata": {},
     "output_type": "execute_result"
    }
   ],
   "source": [
    "sum_list_elements(a)"
   ]
  },
  {
   "cell_type": "markdown",
   "id": "1beb3547",
   "metadata": {},
   "source": [
    "# Write a Python program to Multiply all numbers in the list?"
   ]
  },
  {
   "cell_type": "code",
   "execution_count": 29,
   "id": "643141d9",
   "metadata": {},
   "outputs": [],
   "source": [
    "def multiply_list_elements(l):\n",
    "    if type(l) == list:\n",
    "        try:\n",
    "            total = 1\n",
    "            for i in l:\n",
    "                total = total * i\n",
    "                \n",
    "            return total\n",
    "        except Exception as e:\n",
    "            print(\"somethoing not right\", e)\n",
    "    else:\n",
    "        print(\"incorrect input type\")"
   ]
  },
  {
   "cell_type": "code",
   "execution_count": 30,
   "id": "a029a663",
   "metadata": {},
   "outputs": [
    {
     "data": {
      "text/plain": [
       "120"
      ]
     },
     "execution_count": 30,
     "metadata": {},
     "output_type": "execute_result"
    }
   ],
   "source": [
    "multiply_list_elements(a)"
   ]
  },
  {
   "cell_type": "markdown",
   "id": "c23ac5d6",
   "metadata": {},
   "source": [
    "# Write a Python program to find smallest number in a list?"
   ]
  },
  {
   "cell_type": "code",
   "execution_count": 81,
   "id": "d1a9d1c4",
   "metadata": {},
   "outputs": [],
   "source": [
    "def smallest_element(l):\n",
    "    try:\n",
    "        smallest = l[0]\n",
    "        for i in l:\n",
    "            if smallest > i:\n",
    "                smallest = i\n",
    "            else:\n",
    "                pass\n",
    "        return smallest\n",
    "    except Exception as e:\n",
    "        print(\"somethings not right\",e)"
   ]
  },
  {
   "cell_type": "code",
   "execution_count": 82,
   "id": "048baea7",
   "metadata": {},
   "outputs": [
    {
     "data": {
      "text/plain": [
       "1"
      ]
     },
     "execution_count": 82,
     "metadata": {},
     "output_type": "execute_result"
    }
   ],
   "source": [
    "smallest_element(a)"
   ]
  },
  {
   "cell_type": "code",
   "execution_count": 83,
   "id": "fc7e8e9d",
   "metadata": {},
   "outputs": [
    {
     "data": {
      "text/plain": [
       "[1, 5, 2, 3, 4]"
      ]
     },
     "execution_count": 83,
     "metadata": {},
     "output_type": "execute_result"
    }
   ],
   "source": [
    "a"
   ]
  },
  {
   "cell_type": "markdown",
   "id": "3eb9e123",
   "metadata": {},
   "source": [
    "# Write a Python program to find largest number in a list?"
   ]
  },
  {
   "cell_type": "code",
   "execution_count": 84,
   "id": "4ec7b030",
   "metadata": {},
   "outputs": [],
   "source": [
    "def largest_element(l):\n",
    "    try:\n",
    "        largest = l[0]\n",
    "        for i in l:\n",
    "            if largest < i:\n",
    "                largest = i\n",
    "            else:\n",
    "                pass\n",
    "        return largest\n",
    "    except Exception as e:\n",
    "        print(\"somethings not right\",e)"
   ]
  },
  {
   "cell_type": "code",
   "execution_count": 85,
   "id": "4c635363",
   "metadata": {},
   "outputs": [
    {
     "data": {
      "text/plain": [
       "5"
      ]
     },
     "execution_count": 85,
     "metadata": {},
     "output_type": "execute_result"
    }
   ],
   "source": [
    "largest_element(a)"
   ]
  },
  {
   "cell_type": "code",
   "execution_count": 87,
   "id": "1d371bd3",
   "metadata": {},
   "outputs": [
    {
     "data": {
      "text/plain": [
       "[1, 5, 2, 3, 4]"
      ]
     },
     "execution_count": 87,
     "metadata": {},
     "output_type": "execute_result"
    }
   ],
   "source": [
    "a"
   ]
  },
  {
   "cell_type": "markdown",
   "id": "505d8f5a",
   "metadata": {},
   "source": [
    "# Write a Python program to find second largest number in a list?"
   ]
  },
  {
   "cell_type": "code",
   "execution_count": 105,
   "id": "991ddf3f",
   "metadata": {},
   "outputs": [],
   "source": [
    "def second_largest(self):\n",
    "    try:\n",
    "        self.sort()\n",
    "        return self[-2]\n",
    "    except Exception as e:\n",
    "        print(\"something not right\",e)\n",
    "        "
   ]
  },
  {
   "cell_type": "code",
   "execution_count": 108,
   "id": "878a115b",
   "metadata": {},
   "outputs": [],
   "source": [
    "a1 = [324,5,76,4325,67,4567,6532,51,4656,4,3,4,3,4,5,6,5432,3,9]"
   ]
  },
  {
   "cell_type": "code",
   "execution_count": 109,
   "id": "5516e8a4",
   "metadata": {},
   "outputs": [
    {
     "data": {
      "text/plain": [
       "5432"
      ]
     },
     "execution_count": 109,
     "metadata": {},
     "output_type": "execute_result"
    }
   ],
   "source": [
    "second_largest(a1)"
   ]
  },
  {
   "cell_type": "markdown",
   "id": "42dc9da8",
   "metadata": {},
   "source": [
    "# Write a Python program to find N largest elements from a list?"
   ]
  },
  {
   "cell_type": "code",
   "execution_count": 123,
   "id": "e62267f1",
   "metadata": {},
   "outputs": [],
   "source": [
    "def find_large_nos(self,n = int):\n",
    "    \"\"\"This function gives the N number of largest numbers in a list\"\"\"\n",
    "    try:\n",
    "        self.sort()\n",
    "        return self[-1:-(n+1):-1]\n",
    "    except Exception as e:\n",
    "        print(\"something not right\",e)"
   ]
  },
  {
   "cell_type": "code",
   "execution_count": 124,
   "id": "3fcf38bf",
   "metadata": {},
   "outputs": [],
   "source": [
    "a1 = [324,5,76,4325,67,4567,6532,51,4656,4,3,4,3,4,5,6,5432,3,9]"
   ]
  },
  {
   "cell_type": "code",
   "execution_count": 125,
   "id": "5f516e49",
   "metadata": {},
   "outputs": [
    {
     "data": {
      "text/plain": [
       "[6532, 5432, 4656]"
      ]
     },
     "execution_count": 125,
     "metadata": {},
     "output_type": "execute_result"
    }
   ],
   "source": [
    "find_large_nos(a1,3)"
   ]
  },
  {
   "cell_type": "markdown",
   "id": "ef6a8bad",
   "metadata": {},
   "source": [
    "# Write a Python program to print even numbers in a list?"
   ]
  },
  {
   "cell_type": "code",
   "execution_count": 127,
   "id": "41b7f93b",
   "metadata": {},
   "outputs": [],
   "source": [
    "def find_even_nos(self):\n",
    "    list_to_refer = ['0','2','4','6','8']\n",
    "    even_numbers = []\n",
    "    try:\n",
    "        for num in self:\n",
    "            int = str(num)\n",
    "            if int[-1] in list_to_refer:\n",
    "                even_numbers.append(int)\n",
    "            else:\n",
    "                pass\n",
    "        return even_numbers\n",
    "    except Exception as e:\n",
    "        print(\"something went wrong :(\",e)\n",
    "                \n",
    "        "
   ]
  },
  {
   "cell_type": "code",
   "execution_count": 126,
   "id": "d0e82c06",
   "metadata": {},
   "outputs": [
    {
     "data": {
      "text/plain": [
       "[1, 2, 3, 4, 5]"
      ]
     },
     "execution_count": 126,
     "metadata": {},
     "output_type": "execute_result"
    }
   ],
   "source": [
    "a"
   ]
  },
  {
   "cell_type": "code",
   "execution_count": 128,
   "id": "82ca3345",
   "metadata": {},
   "outputs": [],
   "source": [
    "a1 = [324,5,76,4325,67,4567,6532,51,4656,4,3,4,3,4,5,6,5432,3,9]"
   ]
  },
  {
   "cell_type": "code",
   "execution_count": 129,
   "id": "02eb0a14",
   "metadata": {},
   "outputs": [
    {
     "data": {
      "text/plain": [
       "['324', '76', '6532', '4656', '4', '4', '4', '6', '5432']"
      ]
     },
     "execution_count": 129,
     "metadata": {},
     "output_type": "execute_result"
    }
   ],
   "source": [
    "find_even_nos(a1)"
   ]
  },
  {
   "cell_type": "markdown",
   "id": "d576d8b2",
   "metadata": {},
   "source": [
    "# Write a Python program to print odd numbers in a List?"
   ]
  },
  {
   "cell_type": "code",
   "execution_count": 130,
   "id": "22fe41e4",
   "metadata": {},
   "outputs": [],
   "source": [
    "def find_odd_nos(self):\n",
    "    list_to_refer = ['1','3','5','7','9']\n",
    "    odd_numbers = []\n",
    "    try:\n",
    "        for num in self:\n",
    "            int = str(num)\n",
    "            if int[-1] in list_to_refer:\n",
    "                odd_numbers.append(int)\n",
    "            else:\n",
    "                pass\n",
    "        return odd_numbers\n",
    "    except Exception as e:\n",
    "        print(\"something went wrong :(\",e)\n",
    "                \n",
    "        "
   ]
  },
  {
   "cell_type": "code",
   "execution_count": 131,
   "id": "489effa3",
   "metadata": {},
   "outputs": [
    {
     "data": {
      "text/plain": [
       "[324, 5, 76, 4325, 67, 4567, 6532, 51, 4656, 4, 3, 4, 3, 4, 5, 6, 5432, 3, 9]"
      ]
     },
     "execution_count": 131,
     "metadata": {},
     "output_type": "execute_result"
    }
   ],
   "source": [
    "a1"
   ]
  },
  {
   "cell_type": "code",
   "execution_count": 132,
   "id": "e91ba193",
   "metadata": {},
   "outputs": [
    {
     "data": {
      "text/plain": [
       "['5', '4325', '67', '4567', '51', '3', '3', '5', '3', '9']"
      ]
     },
     "execution_count": 132,
     "metadata": {},
     "output_type": "execute_result"
    }
   ],
   "source": [
    "find_odd_nos(a1)"
   ]
  },
  {
   "cell_type": "markdown",
   "id": "708e7385",
   "metadata": {},
   "source": [
    "# Write a Python program to Remove empty List from List?"
   ]
  },
  {
   "cell_type": "code",
   "execution_count": 144,
   "id": "a7089374",
   "metadata": {},
   "outputs": [],
   "source": [
    "def filter_list(self):\n",
    "    try:\n",
    "        empty_list = []\n",
    "        for ele in self:\n",
    "            if ele == empty_list:\n",
    "                self.remove(ele)\n",
    "            else:\n",
    "                pass\n",
    "        return self\n",
    "    except Exception as e:\n",
    "        print(\"something went wrong :(\",e)"
   ]
  },
  {
   "cell_type": "code",
   "execution_count": 145,
   "id": "bba7bdc7",
   "metadata": {},
   "outputs": [],
   "source": [
    "a = [3,5,4,65,6,[],5]"
   ]
  },
  {
   "cell_type": "code",
   "execution_count": 146,
   "id": "2fc3dada",
   "metadata": {},
   "outputs": [
    {
     "data": {
      "text/plain": [
       "[3, 5, 4, 65, 6, 5]"
      ]
     },
     "execution_count": 146,
     "metadata": {},
     "output_type": "execute_result"
    }
   ],
   "source": [
    "filter_list(a)"
   ]
  },
  {
   "cell_type": "markdown",
   "id": "a3e6f4f6",
   "metadata": {},
   "source": [
    "# Write a Python program to Cloning or Copying a list?"
   ]
  },
  {
   "cell_type": "code",
   "execution_count": 159,
   "id": "510572f5",
   "metadata": {},
   "outputs": [],
   "source": [
    "def cloning(self):\n",
    "    try:\n",
    "        clonned_list = []\n",
    "        for num in self:\n",
    "            clonned_list.append(num)\n",
    "        print(\"The list after cloning : \" ,clonned_list)\n",
    "        print(\"The original list : \",self )\n",
    "    except Exception as e:\n",
    "        print(\"something went wrong :(\",e)\n",
    "        "
   ]
  },
  {
   "cell_type": "code",
   "execution_count": 160,
   "id": "ef3aeff3",
   "metadata": {},
   "outputs": [
    {
     "data": {
      "text/plain": [
       "[3, 5, 4, 65, 6, 5]"
      ]
     },
     "execution_count": 160,
     "metadata": {},
     "output_type": "execute_result"
    }
   ],
   "source": [
    "a"
   ]
  },
  {
   "cell_type": "code",
   "execution_count": 161,
   "id": "8912b7ca",
   "metadata": {},
   "outputs": [
    {
     "name": "stdout",
     "output_type": "stream",
     "text": [
      "The list after cloning :  [3, 5, 4, 65, 6, 5]\n",
      "The original list :  [3, 5, 4, 65, 6, 5]\n"
     ]
    }
   ],
   "source": [
    "cloning(a)"
   ]
  },
  {
   "cell_type": "markdown",
   "id": "df3a654f",
   "metadata": {},
   "source": [
    "# Write a Python program to Count occurrences of an element in a list?"
   ]
  },
  {
   "cell_type": "code",
   "execution_count": 162,
   "id": "4111b69b",
   "metadata": {},
   "outputs": [],
   "source": [
    "def check_count(self , n = int):\n",
    "    try:\n",
    "        count = 0\n",
    "        for num in self:\n",
    "            if n == num:\n",
    "                count = count+1\n",
    "            else:\n",
    "                pass\n",
    "        print(\"The total number of occurence of\",n , \"in \" , self , \"is \" , count)\n",
    "        \n",
    "    except Exception as e:\n",
    "        print(\"something went wrong :(\",e)\n",
    "                "
   ]
  },
  {
   "cell_type": "code",
   "execution_count": 163,
   "id": "e8e609be",
   "metadata": {},
   "outputs": [],
   "source": [
    "a = [3,5,7,8,5,43,65,7,7,4,32,4,6,87,8,5,3,4,5,4,2,4,65,76]"
   ]
  },
  {
   "cell_type": "code",
   "execution_count": 164,
   "id": "4b811fbe",
   "metadata": {},
   "outputs": [
    {
     "name": "stdout",
     "output_type": "stream",
     "text": [
      "The total number of occurence of 5 in  [3, 5, 7, 8, 5, 43, 65, 7, 7, 4, 32, 4, 6, 87, 8, 5, 3, 4, 5, 4, 2, 4, 65, 76] is  4\n"
     ]
    }
   ],
   "source": [
    "check_count(a,5)"
   ]
  },
  {
   "cell_type": "code",
   "execution_count": null,
   "id": "24ed95b1",
   "metadata": {},
   "outputs": [],
   "source": []
  }
 ],
 "metadata": {
  "kernelspec": {
   "display_name": "Python 3 (ipykernel)",
   "language": "python",
   "name": "python3"
  },
  "language_info": {
   "codemirror_mode": {
    "name": "ipython",
    "version": 3
   },
   "file_extension": ".py",
   "mimetype": "text/x-python",
   "name": "python",
   "nbconvert_exporter": "python",
   "pygments_lexer": "ipython3",
   "version": "3.9.7"
  }
 },
 "nbformat": 4,
 "nbformat_minor": 5
}
