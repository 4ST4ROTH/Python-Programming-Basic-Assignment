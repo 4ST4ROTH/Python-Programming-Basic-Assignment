{
 "cells": [
  {
   "cell_type": "markdown",
   "id": "f5ddbb0d",
   "metadata": {},
   "source": [
    "# Write a Python Program to Add Two Matrices?"
   ]
  },
  {
   "cell_type": "code",
   "execution_count": 1,
   "id": "29f33ce9",
   "metadata": {},
   "outputs": [
    {
     "name": "stdout",
     "output_type": "stream",
     "text": [
      "[[ 1 13 15]\n",
      " [17 19 21]\n",
      " [23 25 27]]\n"
     ]
    }
   ],
   "source": [
    "import numpy as np\n",
    "a = np.matrix([[1,2,3],[4,5,6],[7,8,9]])\n",
    "b = np.matrix([[0,11,12],[13,14,15],[16,17,18]])\n",
    "sum = a + b\n",
    "print(sum)\n"
   ]
  },
  {
   "cell_type": "markdown",
   "id": "c0b03fdb",
   "metadata": {},
   "source": [
    "# Write a Python Program to Multiply Two Matrices?"
   ]
  },
  {
   "cell_type": "code",
   "execution_count": 2,
   "id": "b4b9de6d",
   "metadata": {},
   "outputs": [
    {
     "name": "stdout",
     "output_type": "stream",
     "text": [
      "[[ 74  90  96]\n",
      " [161 216 231]\n",
      " [248 342 366]]\n"
     ]
    }
   ],
   "source": [
    "import numpy as np\n",
    "a = np.matrix([[1,2,3],[4,5,6],[7,8,9]])\n",
    "b = np.matrix([[0,11,12],[13,14,15],[16,17,18]])\n",
    "multiply = a * b\n",
    "print(multiply)\n"
   ]
  },
  {
   "cell_type": "markdown",
   "id": "a6144a2d",
   "metadata": {},
   "source": [
    "# Write a Python Program to Transpose a Matrix?"
   ]
  },
  {
   "cell_type": "code",
   "execution_count": 16,
   "id": "f86ca4dd",
   "metadata": {},
   "outputs": [
    {
     "name": "stdout",
     "output_type": "stream",
     "text": [
      "[[1 4 7]\n",
      " [2 5 8]\n",
      " [3 6 9]]\n"
     ]
    }
   ],
   "source": [
    "import numpy as np\n",
    "mat = np.matrix([[1,2,3],[4,5,6],[7,8,9]])\n",
    "transpose = mat.T\n",
    "print(transpose)"
   ]
  },
  {
   "cell_type": "markdown",
   "id": "70a6b042",
   "metadata": {},
   "source": [
    "# Write a Python Program to Sort Words in Alphabetic Order?"
   ]
  },
  {
   "cell_type": "code",
   "execution_count": 22,
   "id": "607360ad",
   "metadata": {},
   "outputs": [],
   "source": [
    "def sort_string(str):\n",
    "    return \"\".join(sorted(str))\n"
   ]
  },
  {
   "cell_type": "code",
   "execution_count": 23,
   "id": "411cae5c",
   "metadata": {},
   "outputs": [
    {
     "data": {
      "text/plain": [
       "'xyz'"
      ]
     },
     "execution_count": 23,
     "metadata": {},
     "output_type": "execute_result"
    }
   ],
   "source": [
    "sort_string('zyx')"
   ]
  },
  {
   "cell_type": "markdown",
   "id": "34ec4f61",
   "metadata": {},
   "source": [
    "# Write a Python Program to Remove Punctuation From a String?"
   ]
  },
  {
   "cell_type": "code",
   "execution_count": 81,
   "id": "826bfc91",
   "metadata": {},
   "outputs": [],
   "source": [
    "def rem_punc(a):\n",
    "    punc = '''!()-[]{};:'\"\\,<>./?@#$%^&*_~'''\n",
    "    for i in a:\n",
    "        if i in punc:\n",
    "            corrected_str = a.replace(i ,'')\n",
    "            a = corrected_str\n",
    "    print(corrected_str)"
   ]
  },
  {
   "cell_type": "code",
   "execution_count": 84,
   "id": "5d9faab5",
   "metadata": {},
   "outputs": [
    {
     "name": "stdout",
     "output_type": "stream",
     "text": [
      "Todays a fine  day\n"
     ]
    }
   ],
   "source": [
    "rem_punc(\"Today's a fine % day$\")"
   ]
  },
  {
   "cell_type": "code",
   "execution_count": null,
   "id": "957d53ca",
   "metadata": {},
   "outputs": [],
   "source": []
  }
 ],
 "metadata": {
  "kernelspec": {
   "display_name": "Python 3 (ipykernel)",
   "language": "python",
   "name": "python3"
  },
  "language_info": {
   "codemirror_mode": {
    "name": "ipython",
    "version": 3
   },
   "file_extension": ".py",
   "mimetype": "text/x-python",
   "name": "python",
   "nbconvert_exporter": "python",
   "pygments_lexer": "ipython3",
   "version": "3.9.7"
  }
 },
 "nbformat": 4,
 "nbformat_minor": 5
}
