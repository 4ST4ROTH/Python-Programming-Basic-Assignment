{
 "cells": [
  {
   "cell_type": "markdown",
   "id": "5f227c16",
   "metadata": {},
   "source": [
    "# Write a Python Program to Display Fibonacci Sequence Using Recursion?\n"
   ]
  },
  {
   "cell_type": "code",
   "execution_count": 13,
   "id": "7ee44935",
   "metadata": {},
   "outputs": [
    {
     "name": "stdout",
     "output_type": "stream",
     "text": [
      "Enter the value here:10\n",
      "0\n",
      "1\n",
      "1\n",
      "2\n",
      "3\n",
      "5\n",
      "8\n",
      "13\n",
      "21\n",
      "34\n"
     ]
    }
   ],
   "source": [
    "def fib_num(n):\n",
    "    \"\"\"Gives you fibonacci sequence for nth term\"\"\"\n",
    "    if n <= 1:\n",
    "        return n\n",
    "    else:\n",
    "        return (fib_num(n-1)+fib_num(n-2))\n",
    "\n",
    "nthterm = int(input(\"Enter the value here:\"))\n",
    "try:\n",
    "    if nthterm > 0:\n",
    "        for i in range(nthterm):\n",
    "            print(fib_num(i))\n",
    "        \n",
    "except Exception as e:\n",
    "    print(\"invalid input\")"
   ]
  },
  {
   "cell_type": "markdown",
   "id": "8f262d3b",
   "metadata": {},
   "source": [
    "# Write a Python Program to Find Factorial of Number Using Recursion?\n"
   ]
  },
  {
   "cell_type": "code",
   "execution_count": 37,
   "id": "5b09ea8a",
   "metadata": {},
   "outputs": [],
   "source": [
    "def fact(n):\n",
    "    \"\"\"Gives the factorial for n value\"\"\"\n",
    "    if n == 0:\n",
    "        return 1\n",
    "    factorial = n * fact(n-1)\n",
    "    return factorial"
   ]
  },
  {
   "cell_type": "code",
   "execution_count": 38,
   "id": "609b7283",
   "metadata": {},
   "outputs": [
    {
     "data": {
      "text/plain": [
       "120"
      ]
     },
     "execution_count": 38,
     "metadata": {},
     "output_type": "execute_result"
    }
   ],
   "source": [
    "fact(5)"
   ]
  },
  {
   "cell_type": "markdown",
   "id": "c2a07fe6",
   "metadata": {},
   "source": [
    "# Write a Python Program to calculate your Body Mass Index?\n"
   ]
  },
  {
   "cell_type": "code",
   "execution_count": 1,
   "id": "c3068eda",
   "metadata": {},
   "outputs": [
    {
     "name": "stdout",
     "output_type": "stream",
     "text": [
      "Enter your weight in kg here: 55\n",
      "Enter your height in metre here: 1.6\n",
      "21.484374999999996\n"
     ]
    }
   ],
   "source": [
    "weight = float(input(\"Enter your weight in kg here: \"))\n",
    "height = float(input(\"Enter your height in metre here: \"))\n",
    "\n",
    "bmi = weight/(height**2)\n",
    "\n",
    "print(bmi)"
   ]
  },
  {
   "cell_type": "markdown",
   "id": "45a42d5e",
   "metadata": {},
   "source": [
    "# Write a Python Program to calculate the natural logarithm of any number?\n"
   ]
  },
  {
   "cell_type": "code",
   "execution_count": 4,
   "id": "c0de0f24",
   "metadata": {},
   "outputs": [
    {
     "name": "stdout",
     "output_type": "stream",
     "text": [
      "Enter the number here: 69\n",
      "4.23410650459726\n"
     ]
    }
   ],
   "source": [
    "import numpy as np\n",
    "import math\n",
    "x = int(input(\"Enter the number here: \"))\n",
    "print(np.log(x))"
   ]
  },
  {
   "cell_type": "markdown",
   "id": "a0779d53",
   "metadata": {},
   "source": [
    "# Write a Python Program for cube sum of first n natural numbers?\n"
   ]
  },
  {
   "cell_type": "code",
   "execution_count": 11,
   "id": "632e1bfa",
   "metadata": {},
   "outputs": [],
   "source": [
    "def cube(n):\n",
    "    \"\"\"Give the sum of cube of  first natura numbers upto nth term\"\"\"\n",
    "    if n == 1:\n",
    "        return 0\n",
    "    n = (n**3)+cube(n-1)\n",
    "    return n"
   ]
  },
  {
   "cell_type": "code",
   "execution_count": 12,
   "id": "52a528a8",
   "metadata": {},
   "outputs": [
    {
     "data": {
      "text/plain": [
       "224"
      ]
     },
     "execution_count": 12,
     "metadata": {},
     "output_type": "execute_result"
    }
   ],
   "source": [
    "cube(5)"
   ]
  },
  {
   "cell_type": "code",
   "execution_count": null,
   "id": "c180c53c",
   "metadata": {},
   "outputs": [],
   "source": []
  }
 ],
 "metadata": {
  "kernelspec": {
   "display_name": "Python 3 (ipykernel)",
   "language": "python",
   "name": "python3"
  },
  "language_info": {
   "codemirror_mode": {
    "name": "ipython",
    "version": 3
   },
   "file_extension": ".py",
   "mimetype": "text/x-python",
   "name": "python",
   "nbconvert_exporter": "python",
   "pygments_lexer": "ipython3",
   "version": "3.9.7"
  }
 },
 "nbformat": 4,
 "nbformat_minor": 5
}
