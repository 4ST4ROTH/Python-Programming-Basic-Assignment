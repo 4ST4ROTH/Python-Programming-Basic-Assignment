{
 "cells": [
  {
   "cell_type": "markdown",
   "id": "d00c33e5",
   "metadata": {},
   "source": [
    "# 1. Make a class called Thing with no contents and print it. Then, create an object called example from this class and also print it. Are the printed values the same or different?\n"
   ]
  },
  {
   "cell_type": "code",
   "execution_count": 1,
   "id": "c51eba18",
   "metadata": {},
   "outputs": [
    {
     "name": "stdout",
     "output_type": "stream",
     "text": [
      "<class '__main__.Thing'>\n",
      "<__main__.Thing object at 0x000001C89210E1C0>\n"
     ]
    }
   ],
   "source": [
    "class Thing:\n",
    "    pass\n",
    "\n",
    "print(Thing)\n",
    "\n",
    "example = Thing()\n",
    "print(example)"
   ]
  },
  {
   "cell_type": "markdown",
   "id": "af68b264",
   "metadata": {},
   "source": [
    "# 2. Create a new class called Thing2 and add the value 'abc' to the letters class attribute. Letters should be printed.\n"
   ]
  },
  {
   "cell_type": "code",
   "execution_count": 2,
   "id": "bfd27fe1",
   "metadata": {},
   "outputs": [
    {
     "name": "stdout",
     "output_type": "stream",
     "text": [
      "abc\n"
     ]
    }
   ],
   "source": [
    "class Thing2:\n",
    "    letters = 'abc'\n",
    "    \n",
    "print(Thing2.letters)\n"
   ]
  },
  {
   "cell_type": "markdown",
   "id": "3bc4bcea",
   "metadata": {},
   "source": [
    "# 3. Make yet another class called, of course, Thing3. This time, assign the value 'xyz' to an instance (object) attribute called letters. Print letters. Do you need to make an object from the class to do this?\n"
   ]
  },
  {
   "cell_type": "code",
   "execution_count": 3,
   "id": "924b9ce5",
   "metadata": {},
   "outputs": [
    {
     "name": "stdout",
     "output_type": "stream",
     "text": [
      "xyz\n"
     ]
    }
   ],
   "source": [
    "class Thing3:    \n",
    "    def __init__(self):\n",
    "        self.letters = 'xyz'\n",
    "        \n",
    "try:        \n",
    "    print(Thing3.letters) # Will raise a syntax Error\n",
    "except:\n",
    "    my_thing = Thing3()\n",
    "    print(my_thing.letters)"
   ]
  },
  {
   "cell_type": "markdown",
   "id": "a7d25a34",
   "metadata": {},
   "source": [
    "# 4. Create an Element class with the instance attributes name, symbol, and number. Create a class object with the values 'Hydrogen,' 'H,' and 1.\n"
   ]
  },
  {
   "cell_type": "code",
   "execution_count": 4,
   "id": "07b2c5d4",
   "metadata": {},
   "outputs": [],
   "source": [
    "class Element:   \n",
    "    def __init__(self, name, symbol, number):\n",
    "        self.name = name\n",
    "        self.symbol = symbol\n",
    "        self.number = number\n",
    "\n",
    "my_elements = Element('Hydrogen','H',1)"
   ]
  },
  {
   "cell_type": "markdown",
   "id": "ed670029",
   "metadata": {},
   "source": [
    "# 5. Make a dictionary with these keys and values: 'name': 'Hydrogen', 'symbol': 'H', 'number': 1. Then, create an object called hydrogen from class Element using this dictionary.\n"
   ]
  },
  {
   "cell_type": "code",
   "execution_count": 5,
   "id": "ac9d1f5d",
   "metadata": {},
   "outputs": [
    {
     "name": "stdout",
     "output_type": "stream",
     "text": [
      "{'name': 'Hydrogen', 'symbol': 'H', 'number': 1}\n",
      "Using Method #1 ->\tHydrogen\tH\t1\n",
      "Using Method #2 ->\tHydrogen\tH\t1\n"
     ]
    }
   ],
   "source": [
    "custom_dict = {'name':'Hydrogen','symbol':'H','number':1}\n",
    "print(custom_dict)\n",
    "\n",
    "# Method 1\n",
    "hydrogen = Element(*custom_dict.values())\n",
    "print('Using Method #1 ->',hydrogen.name,hydrogen.symbol,hydrogen.number, sep='\\t')\n",
    "\n",
    "# Method 2\n",
    "hydrogen = Element(**custom_dict)\n",
    "print('Using Method #2 ->',hydrogen.name,hydrogen.symbol,hydrogen.number, sep='\\t')"
   ]
  },
  {
   "cell_type": "markdown",
   "id": "9115ac11",
   "metadata": {},
   "source": [
    "# 6. For the Element class, define a method called dump() that prints the values of the object’s attributes (name, symbol, and number). Create the hydrogen object from this new definition and use dump() to print its attributes.\n"
   ]
  },
  {
   "cell_type": "code",
   "execution_count": 6,
   "id": "15115024",
   "metadata": {},
   "outputs": [
    {
     "name": "stdout",
     "output_type": "stream",
     "text": [
      "Hydrogen H 1\n"
     ]
    }
   ],
   "source": [
    "class Element:\n",
    "    def __init__(self, name, symbol, number):\n",
    "        self.name = name\n",
    "        self.symbol = symbol\n",
    "        self.number = number      \n",
    "    def dump(self):\n",
    "        print(self.name, self.symbol, self.number)\n",
    "        \n",
    "hydrogen = Element('Hydrogen','H',1)\n",
    "hydrogen.dump()"
   ]
  },
  {
   "cell_type": "markdown",
   "id": "03016d20",
   "metadata": {},
   "source": [
    "# 7. Call print(hydrogen). In the definition of Element, change the name of method dump to __str__, create a new hydrogen object, and call print(hydrogen) again.\n"
   ]
  },
  {
   "cell_type": "code",
   "execution_count": 7,
   "id": "020f23ad",
   "metadata": {},
   "outputs": [
    {
     "name": "stdout",
     "output_type": "stream",
     "text": [
      "<__main__.Element object at 0x000001C8920AE790>\n",
      "Hydrogen H 1\n"
     ]
    }
   ],
   "source": [
    "print(hydrogen)\n",
    "\n",
    "class Element:\n",
    "    def __init__(self, name, symbol, number):\n",
    "        self.name = name\n",
    "        self.symbol = symbol\n",
    "        self.number = number      \n",
    "    def __str__(self):\n",
    "        return f'{self.name} {self.symbol} {self.number}'\n",
    "        \n",
    "Hydrogen = Element('Hydrogen','H',1)\n",
    "print(Hydrogen)"
   ]
  },
  {
   "cell_type": "markdown",
   "id": "d9303187",
   "metadata": {},
   "source": [
    "# 8. Modify Element to make the attributes name, symbol, and number private. Define a getter property for each to return its value.\n"
   ]
  },
  {
   "cell_type": "code",
   "execution_count": 8,
   "id": "1d8dbabf",
   "metadata": {},
   "outputs": [
    {
     "name": "stdout",
     "output_type": "stream",
     "text": [
      "Hydrogen\n",
      "H\n",
      "1\n"
     ]
    }
   ],
   "source": [
    "class Element:\n",
    "    def __init__(self,name,symbol,number):\n",
    "        self.__name = name\n",
    "        self.__symbol = symbol\n",
    "        self.__number = number\n",
    "    \n",
    "    @property\n",
    "    def get_name(self):\n",
    "        return self.__name\n",
    "    \n",
    "    @property\n",
    "    def get_symbol(self):\n",
    "        return self.__symbol\n",
    "    \n",
    "    @property\n",
    "    def get_number(self):\n",
    "        return self.__number\n",
    "    \n",
    "hydrogen = Element('Hydrogen','H',1)\n",
    "print(hydrogen.get_name)\n",
    "print(hydrogen.get_symbol)\n",
    "print(hydrogen.get_number)"
   ]
  },
  {
   "cell_type": "markdown",
   "id": "f2672544",
   "metadata": {},
   "source": [
    "# 9. Define three classes: Bear, Rabbit, and Octothorpe. For each, define only one method: eats(). This should return 'berries' (Bear), 'clover' (Rabbit), or 'campers' (Octothorpe). Create one object from each and print what it eats.\n"
   ]
  },
  {
   "cell_type": "code",
   "execution_count": 9,
   "id": "ad56eb93",
   "metadata": {},
   "outputs": [
    {
     "name": "stdout",
     "output_type": "stream",
     "text": [
      "berries\n",
      "clover\n",
      "campers\n"
     ]
    }
   ],
   "source": [
    "class Bear:\n",
    "    def eats(self):\n",
    "        print('berries')\n",
    "class Rabbit:\n",
    "    def eats(self):\n",
    "        print('clover')\n",
    "class Octothorpe:\n",
    "    def eats(self):\n",
    "        print('campers')\n",
    "        \n",
    "bear = Bear()\n",
    "rabbit = Rabbit()\n",
    "octothrope = Octothorpe()\n",
    "\n",
    "bear.eats()\n",
    "rabbit.eats()\n",
    "octothrope.eats()"
   ]
  },
  {
   "cell_type": "markdown",
   "id": "72c3339b",
   "metadata": {},
   "source": [
    "# 10. Define these classes: Laser, Claw, and SmartPhone. Each has only one method: does(). This returns 'disintegrate' (Laser), 'crush' (Claw), or 'ring' (SmartPhone). Then, define the class Robot that has one instance (object) of each of these. Define a does() method for the Robot that prints what its component objects do.\n"
   ]
  },
  {
   "cell_type": "code",
   "execution_count": 10,
   "id": "828eb087",
   "metadata": {},
   "outputs": [
    {
     "name": "stdout",
     "output_type": "stream",
     "text": [
      "disintegrate crush ring\n"
     ]
    }
   ],
   "source": [
    "class Laser:\n",
    "    def does(self):\n",
    "        return 'disintegrate'\n",
    "class Claw:\n",
    "    def does(self):\n",
    "        return 'crush'\n",
    "class Smartphone:\n",
    "    def does(self):\n",
    "        return 'ring'\n",
    "class Robot:\n",
    "    def __init__(self):\n",
    "        self.laser = Laser()\n",
    "        self.claw = Claw()\n",
    "        self.smartphone = Smartphone()\n",
    "    def does(self):\n",
    "        print(self.laser.does(),self.claw.does(),self.smartphone.does())\n",
    "        \n",
    "r2d2 = Robot()\n",
    "r2d2.does()"
   ]
  },
  {
   "cell_type": "code",
   "execution_count": null,
   "id": "7d43ba9d",
   "metadata": {},
   "outputs": [],
   "source": []
  }
 ],
 "metadata": {
  "kernelspec": {
   "display_name": "Python 3 (ipykernel)",
   "language": "python",
   "name": "python3"
  },
  "language_info": {
   "codemirror_mode": {
    "name": "ipython",
    "version": 3
   },
   "file_extension": ".py",
   "mimetype": "text/x-python",
   "name": "python",
   "nbconvert_exporter": "python",
   "pygments_lexer": "ipython3",
   "version": "3.9.13"
  }
 },
 "nbformat": 4,
 "nbformat_minor": 5
}
