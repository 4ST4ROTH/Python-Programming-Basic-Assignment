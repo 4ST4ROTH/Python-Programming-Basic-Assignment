{
 "cells": [
  {
   "cell_type": "markdown",
   "id": "b72f48eb",
   "metadata": {},
   "source": [
    "# Write a Python Program to Find the Factorial of a Number?\n"
   ]
  },
  {
   "cell_type": "code",
   "execution_count": 69,
   "id": "1f6ac743",
   "metadata": {},
   "outputs": [
    {
     "name": "stdout",
     "output_type": "stream",
     "text": [
      "Enter the number here:6\n",
      "720\n"
     ]
    }
   ],
   "source": [
    "num = int(input(\"Enter the number here:\"))\n",
    "a = 1\n",
    "try:\n",
    "    for i in range(num,1,-1):\n",
    "        a =(i*a)\n",
    "    print(a)\n",
    "    \n",
    "except Exception as e:\n",
    "    print(\"invalid input\")"
   ]
  },
  {
   "cell_type": "markdown",
   "id": "4f7ecc8e",
   "metadata": {},
   "source": [
    "# Write a Python Program to Display the multiplication Table?\n"
   ]
  },
  {
   "cell_type": "code",
   "execution_count": 67,
   "id": "fb65ba89",
   "metadata": {},
   "outputs": [
    {
     "name": "stdout",
     "output_type": "stream",
     "text": [
      "enter the value here:5\n",
      "0 0 0 0 0 0 \n",
      "0 1 2 3 4 5 \n",
      "0 2 4 6 8 10 \n",
      "0 3 6 9 12 15 \n",
      "0 4 8 12 16 20 \n",
      "0 5 10 15 20 25 \n"
     ]
    }
   ],
   "source": [
    "num = int(input(\"enter the value here:\"))\n",
    "for i in range(0,num+1):\n",
    "    for j in range (0,num+1):\n",
    "        a = (i*j)\n",
    "        print(a,\"\" ,end=\"\")\n",
    "    print(\"\")"
   ]
  },
  {
   "cell_type": "markdown",
   "id": "1e1db3c9",
   "metadata": {},
   "source": [
    "# Write a Python Program to Print the Fibonacci sequence?\n"
   ]
  },
  {
   "cell_type": "code",
   "execution_count": 89,
   "id": "c221f139",
   "metadata": {},
   "outputs": [
    {
     "name": "stdout",
     "output_type": "stream",
     "text": [
      "Enter the value here:10\n",
      "Fibonacci number sequence upto 10 terms [0, 1, 1, 2, 3, 5, 8, 13, 21, 34, 55]\n"
     ]
    }
   ],
   "source": [
    "num = int(input(\"Enter the value here:\"))\n",
    "a = [0,1]\n",
    "try:\n",
    "    for i in range(2,num+1):\n",
    "        a.append(a[(i-1)]+a[(i-2)])\n",
    "    print(\"Fibonacci number sequence upto\" , num , \"terms\" , a)\n",
    "    \n",
    "except Exception as e:\n",
    "    print(\"invalid input\")"
   ]
  },
  {
   "cell_type": "markdown",
   "id": "3e52fdc3",
   "metadata": {},
   "source": [
    "# Write a Python Program to Check Armstrong Number?\n"
   ]
  },
  {
   "cell_type": "code",
   "execution_count": 27,
   "id": "10a1e71c",
   "metadata": {},
   "outputs": [
    {
     "name": "stdout",
     "output_type": "stream",
     "text": [
      "Enter the number here:153\n",
      "153 is an Armstrong number\n"
     ]
    }
   ],
   "source": [
    "num = int(input(\"Enter the number here:\"))\n",
    "try:\n",
    "    b = []\n",
    "    if type(num) == int:\n",
    "        num = str(num)\n",
    "        for i in num:\n",
    "            a = (int(i)**3)\n",
    "            b.append(a)\n",
    "        else:\n",
    "            c = 0\n",
    "            for j in b:\n",
    "                arm_num = j+c\n",
    "                c = arm_num\n",
    "        if  int(num) == arm_num:\n",
    "            print(num , \"is an Armstrong number\")\n",
    "        else:\n",
    "            print(num , \"is not an Armstrong number\")\n",
    "            \n",
    "except Exception as e:\n",
    "    print(\"Not a valid input\")"
   ]
  },
  {
   "cell_type": "markdown",
   "id": "b682e86f",
   "metadata": {},
   "source": [
    "# Write a Python Program to Find Armstrong Number in an Interval?\n"
   ]
  },
  {
   "cell_type": "code",
   "execution_count": 38,
   "id": "4b4751ca",
   "metadata": {},
   "outputs": [
    {
     "name": "stdout",
     "output_type": "stream",
     "text": [
      "Enter the lower interval limit here: 10\n",
      "Enter the higher interval limit here:1000\n",
      "['153', '370', '371', '407']\n"
     ]
    }
   ],
   "source": [
    "l_num = int(input(\"Enter the lower interval limit here: \"))\n",
    "h_num = int(input(\"Enter the higher interval limit here:\"))\n",
    "try:\n",
    "    x = []\n",
    "    if type(l_num) == int or type(h_num) == int:\n",
    "        for num in range(l_num,h_num+1):\n",
    "            b = []\n",
    "            num = str(num)\n",
    "            for i in num:\n",
    "                a = (int(i)**3)\n",
    "                b.append(a)\n",
    "            else:\n",
    "                c= 0\n",
    "                for j in b:\n",
    "                    arm_num = j+c\n",
    "                    c = arm_num\n",
    "            if int(num) == arm_num:\n",
    "                x.append(num)\n",
    "            else:\n",
    "                continue\n",
    "    print(x)\n",
    "\n",
    "except Exception as e:\n",
    "    print(\"invalid input\", e)"
   ]
  },
  {
   "cell_type": "markdown",
   "id": "8d741da6",
   "metadata": {},
   "source": [
    "# Write a Python Program to Find the Sum of Natural Numbers?\n"
   ]
  },
  {
   "cell_type": "code",
   "execution_count": 2,
   "id": "eff95377",
   "metadata": {},
   "outputs": [
    {
     "name": "stdout",
     "output_type": "stream",
     "text": [
      "Enter the natural number here4\n"
     ]
    },
    {
     "ename": "KeyboardInterrupt",
     "evalue": "",
     "output_type": "error",
     "traceback": [
      "\u001b[1;31m---------------------------------------------------------------------------\u001b[0m",
      "\u001b[1;31mKeyboardInterrupt\u001b[0m                         Traceback (most recent call last)",
      "\u001b[1;32m~\\AppData\\Local\\Temp/ipykernel_12416/962434821.py\u001b[0m in \u001b[0;36m<module>\u001b[1;34m\u001b[0m\n\u001b[0;32m      6\u001b[0m \u001b[1;32melse\u001b[0m\u001b[1;33m:\u001b[0m\u001b[1;33m\u001b[0m\u001b[1;33m\u001b[0m\u001b[0m\n\u001b[0;32m      7\u001b[0m     \u001b[1;32mwhile\u001b[0m \u001b[0ma\u001b[0m \u001b[1;33m<=\u001b[0m \u001b[0mnum\u001b[0m\u001b[1;33m:\u001b[0m\u001b[1;33m\u001b[0m\u001b[1;33m\u001b[0m\u001b[0m\n\u001b[1;32m----> 8\u001b[1;33m         \u001b[0ma\u001b[0m \u001b[1;33m+=\u001b[0m \u001b[0ma\u001b[0m\u001b[1;33m\u001b[0m\u001b[1;33m\u001b[0m\u001b[0m\n\u001b[0m\u001b[0;32m      9\u001b[0m     \u001b[0mprint\u001b[0m\u001b[1;33m(\u001b[0m\u001b[0ma\u001b[0m\u001b[1;33m)\u001b[0m\u001b[1;33m\u001b[0m\u001b[1;33m\u001b[0m\u001b[0m\n\u001b[0;32m     10\u001b[0m \u001b[1;33m\u001b[0m\u001b[0m\n",
      "\u001b[1;31mKeyboardInterrupt\u001b[0m: "
     ]
    }
   ],
   "source": [
    "# sum of all natural numbers whithin the provided number.\n",
    "num = int(input(\"Enter the natural number here\"))\n",
    "\n",
    "try:\n",
    "    a = 0\n",
    "    for i in range(0,num+1):\n",
    "        a = i + a\n",
    "    print(a)\n",
    "        \n",
    "        "
   ]
  },
  {
   "cell_type": "code",
   "execution_count": null,
   "id": "c110bc16",
   "metadata": {},
   "outputs": [],
   "source": []
  }
 ],
 "metadata": {
  "kernelspec": {
   "display_name": "Python 3 (ipykernel)",
   "language": "python",
   "name": "python3"
  },
  "language_info": {
   "codemirror_mode": {
    "name": "ipython",
    "version": 3
   },
   "file_extension": ".py",
   "mimetype": "text/x-python",
   "name": "python",
   "nbconvert_exporter": "python",
   "pygments_lexer": "ipython3",
   "version": "3.9.7"
  }
 },
 "nbformat": 4,
 "nbformat_minor": 5
}
