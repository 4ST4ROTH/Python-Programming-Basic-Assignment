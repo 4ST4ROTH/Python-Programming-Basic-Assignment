{
 "cells": [
  {
   "cell_type": "markdown",
   "id": "7e4d6850",
   "metadata": {},
   "source": [
    "# 1. Add the current date to the text file today.txt as a string.\n"
   ]
  },
  {
   "cell_type": "code",
   "execution_count": 1,
   "id": "46531455",
   "metadata": {},
   "outputs": [
    {
     "name": "stdout",
     "output_type": "stream",
     "text": [
      "18-01-2023\n"
     ]
    }
   ],
   "source": [
    "import datetime\n",
    "# Code to Add current date to the today.txt file\n",
    "file = open('today.txt','w')\n",
    "file.write(datetime.datetime.now().strftime(\"%d-%m-%Y\"))\n",
    "file.close()\n",
    "# Code to Read current date from today.txt file\n",
    "file = open('today.txt','r')\n",
    "print(file.read())\n",
    "file.close()"
   ]
  },
  {
   "cell_type": "markdown",
   "id": "98a227d8",
   "metadata": {},
   "source": [
    "# 2. Read the text file today.txt into the string today_string\n"
   ]
  },
  {
   "cell_type": "code",
   "execution_count": 2,
   "id": "3eb3ff6e",
   "metadata": {},
   "outputs": [
    {
     "name": "stdout",
     "output_type": "stream",
     "text": [
      "18-01-2023\n"
     ]
    }
   ],
   "source": [
    "file = open('today.txt','r')\n",
    "today_string = file.read()\n",
    "print(today_string)"
   ]
  },
  {
   "cell_type": "markdown",
   "id": "bf9c85c3",
   "metadata": {},
   "source": [
    "# 3. Parse the date from today_string.\n"
   ]
  },
  {
   "cell_type": "code",
   "execution_count": 3,
   "id": "dac90934",
   "metadata": {},
   "outputs": [
    {
     "name": "stdout",
     "output_type": "stream",
     "text": [
      "2023-01-18 00:00:00\n"
     ]
    }
   ],
   "source": [
    "from datetime import datetime\n",
    "parsed_data = datetime.strptime(today_string, '%d-%m-%Y')\n",
    "print(parsed_data)\n"
   ]
  },
  {
   "cell_type": "markdown",
   "id": "9cbfaf5b",
   "metadata": {},
   "source": [
    "# 4. List the files in your current directory\n"
   ]
  },
  {
   "cell_type": "code",
   "execution_count": 5,
   "id": "b09876f9",
   "metadata": {},
   "outputs": [
    {
     "name": "stdout",
     "output_type": "stream",
     "text": [
      " Volume in drive C has no label.\n",
      " Volume Serial Number is 92AA-D738\n",
      "\n",
      " Directory of C:\\Users\\Hp\n",
      "\n",
      "18-01-2023  18:35    <DIR>          .\n",
      "18-01-2023  18:35    <DIR>          ..\n",
      "16-01-2023  23:36    <DIR>          .android\n",
      "17-01-2023  13:25               149 .bash_history\n",
      "17-01-2023  14:40    <DIR>          .conda\n",
      "17-01-2023  13:52                25 .condarc\n",
      "17-01-2023  13:51    <DIR>          .continuum\n",
      "18-01-2023  18:32    <DIR>          .ipynb_checkpoints\n",
      "18-01-2023  14:15    <DIR>          .ipython\n",
      "28-12-2021  10:53    <DIR>          .oracle_jre_usage\n",
      "17-01-2023  12:15    <DIR>          .vscode\n",
      "18-01-2023  17:56    <DIR>          __pycache__\n",
      "17-01-2023  11:52    <DIR>          anaconda3\n",
      "18-01-2023  15:37               130 application_log.txt\n",
      "18-01-2023  15:31             6,125 Basic python assignment 10.ipynb\n",
      "18-01-2023  15:40            14,078 Basic python assignment 11.ipynb\n",
      "18-01-2023  15:59             9,114 Basic python assignment 12.ipynb\n",
      "18-01-2023  17:11             7,522 Basic python assignment 13.ipynb\n",
      "18-01-2023  17:26             4,390 Basic python assignment 14.ipynb\n",
      "18-01-2023  17:32             4,852 Basic python assignment 15.ipynb\n",
      "18-01-2023  17:41             9,469 Basic python assignment 16.ipynb\n",
      "18-01-2023  17:49             8,599 Basic python assignment 17.ipynb\n",
      "18-01-2023  17:59             4,975 Basic python assignment 18.ipynb\n",
      "18-01-2023  18:05             9,958 Basic python assignment 19.ipynb\n",
      "18-01-2023  18:30             9,032 Basic python assignment 20.ipynb\n",
      "18-01-2023  18:35         4,150,726 Basic python assignment 21.ipynb\n",
      "18-01-2023  14:40            21,628 Basic Python Assignment 7.ipynb\n",
      "18-01-2023  14:50             4,609 Basic python assignment 8.ipynb\n",
      "18-01-2023  18:13               205 books.csv\n",
      "18-01-2023  18:18             8,192 books.db\n",
      "18-01-2023  18:18             8,192 Books1.db\n",
      "18-01-2023  15:22           638,682 cat.jpg\n",
      "18-01-2023  17:25           485,701 cat2.jpg\n",
      "11-11-2020  19:08    <DIR>          Contacts\n",
      "17-01-2023  13:23    <DIR>          Desktop\n",
      "17-01-2023  11:52    <DIR>          Documents\n",
      "18-01-2023  18:23    <DIR>          Downloads\n",
      "18-01-2023  15:27    <DIR>          Dummy destination\n",
      "18-01-2023  15:54    <DIR>          Dummy source\n",
      "05-05-2022  15:26    <DIR>          Favorites\n",
      "11-11-2020  15:53    <DIR>          Intel\n",
      "11-11-2020  19:08    <DIR>          Links\n",
      "15-11-2022  19:40    <DIR>          MediaGet2\n",
      "05-02-2022  15:51    <DIR>          Music\n",
      "08-08-2021  12:06    <DIR>          OneDrive\n",
      "23-12-2021  19:09    <DIR>          Pictures\n",
      "01-06-2022  14:23    <DIR>          RDP6\n",
      "11-11-2020  19:08    <DIR>          Saved Games\n",
      "10-03-2022  12:01    <DIR>          Searches\n",
      "18-01-2023  17:09                79 test.csv\n",
      "18-01-2023  18:13                44 test.txt\n",
      "18-01-2023  18:33                10 today.txt\n",
      "18-01-2023  17:09                79 university_records.csv\n",
      "18-01-2023  15:20    <DIR>          Untitled Folder\n",
      "18-01-2023  16:03                 0 untitled.txt\n",
      "18-11-2020  21:19    <DIR>          Videos\n",
      "18-01-2023  17:54                41 zoo.py\n",
      "              28 File(s)      5,406,606 bytes\n",
      "              29 Dir(s)  40,626,851,840 bytes free\n"
     ]
    }
   ],
   "source": [
    "ls"
   ]
  },
  {
   "cell_type": "markdown",
   "id": "40fe2e19",
   "metadata": {},
   "source": [
    "# 5. Create a list of all of the files in your parent directory (minimum five files should be available).\n"
   ]
  },
  {
   "cell_type": "code",
   "execution_count": 6,
   "id": "afc1b738",
   "metadata": {},
   "outputs": [
    {
     "data": {
      "text/plain": [
       "['.android',\n",
       " '.bash_history',\n",
       " '.conda',\n",
       " '.condarc',\n",
       " '.continuum',\n",
       " '.ipynb_checkpoints',\n",
       " '.ipython',\n",
       " '.oracle_jre_usage',\n",
       " '.vscode',\n",
       " 'anaconda3',\n",
       " 'AppData',\n",
       " 'application_log.txt',\n",
       " 'Basic python assignment 10.ipynb',\n",
       " 'Basic python assignment 11.ipynb',\n",
       " 'Basic python assignment 12.ipynb',\n",
       " 'Basic python assignment 13.ipynb',\n",
       " 'Basic python assignment 14.ipynb',\n",
       " 'Basic python assignment 15.ipynb',\n",
       " 'Basic python assignment 16.ipynb',\n",
       " 'Basic python assignment 17.ipynb',\n",
       " 'Basic python assignment 18.ipynb',\n",
       " 'Basic python assignment 19.ipynb',\n",
       " 'Basic python assignment 20.ipynb',\n",
       " 'Basic python assignment 21.ipynb',\n",
       " 'Basic Python Assignment 7.ipynb',\n",
       " 'Basic python assignment 8.ipynb',\n",
       " 'books.csv',\n",
       " 'books.db',\n",
       " 'Books1.db',\n",
       " 'cat.jpg',\n",
       " 'cat2.jpg',\n",
       " 'Contacts',\n",
       " 'Desktop',\n",
       " 'Documents',\n",
       " 'Downloads',\n",
       " 'Dummy destination',\n",
       " 'Dummy source',\n",
       " 'Favorites',\n",
       " 'Intel',\n",
       " 'IntelGraphicsProfiles',\n",
       " 'Links',\n",
       " 'MediaGet2',\n",
       " 'Music',\n",
       " 'NTUSER.DAT',\n",
       " 'ntuser.dat.LOG1',\n",
       " 'ntuser.dat.LOG2',\n",
       " 'NTUSER.DAT{4e074668-0c1c-11e7-a943-e41d2d718a20}.TM.blf',\n",
       " 'NTUSER.DAT{4e074668-0c1c-11e7-a943-e41d2d718a20}.TMContainer00000000000000000001.regtrans-ms',\n",
       " 'NTUSER.DAT{4e074668-0c1c-11e7-a943-e41d2d718a20}.TMContainer00000000000000000002.regtrans-ms',\n",
       " 'ntuser.ini',\n",
       " 'OneDrive',\n",
       " 'Pictures',\n",
       " 'RDP6',\n",
       " 'Saved Games',\n",
       " 'ScStore',\n",
       " 'Searches',\n",
       " 'test.csv',\n",
       " 'test.txt',\n",
       " 'today.txt',\n",
       " 'university_records.csv',\n",
       " 'Untitled Folder',\n",
       " 'untitled.txt',\n",
       " 'Videos',\n",
       " 'zoo.py',\n",
       " '__pycache__']"
      ]
     },
     "execution_count": 6,
     "metadata": {},
     "output_type": "execute_result"
    }
   ],
   "source": [
    "import os \n",
    "os.listdir()"
   ]
  },
  {
   "cell_type": "markdown",
   "id": "dfe2970b",
   "metadata": {},
   "source": [
    "# Use multiprocessing to create three separate processes. Make each one wait a random number of seconds between one and five, print the current time, and then exit."
   ]
  },
  {
   "cell_type": "code",
   "execution_count": 7,
   "id": "a071a412",
   "metadata": {},
   "outputs": [],
   "source": [
    "import multiprocessing\n",
    "import time \n",
    "import random\n",
    "import datetime\n",
    "\n",
    "def procOne():\n",
    "    print(f'Proc_one_Starttime -> {datetime.datetime.now()}')\n",
    "    time.sleep(random.randint(1,5))\n",
    "    print(f'Proc_one_Endtime -> {datetime.datetime.now()}')\n",
    "    \n",
    "def procTwo():\n",
    "    print(f'Proc_two_Starttime -> {datetime.datetime.now()}')\n",
    "    time.sleep(random.randint(1,5))\n",
    "    print(f'Proc_two_Endtime -> {datetime.datetime.now()}')\n",
    "\n",
    "def procThree():\n",
    "    print(f'Proc_two_Starttime -> {datetime.datetime.now()}')\n",
    "    time.sleep(random.randint(1,5))\n",
    "    print(f'Proc_two_Endtime -> {datetime.datetime.now()}')\n",
    "    \n",
    "if __name__ == \"__main__\":    \n",
    "    p1 = multiprocessing.Process(target=procOne)\n",
    "    p2 = multiprocessing.Process(target=procTwo)\n",
    "    p3 = multiprocessing.Process(target=procThree)\n",
    "\n",
    "    p1.start()\n",
    "    p2.start()\n",
    "    p3.start()\n",
    "\n",
    "    p1.join()\n",
    "    p2.join()\n",
    "    p3.join()"
   ]
  },
  {
   "cell_type": "markdown",
   "id": "5ac9909d",
   "metadata": {},
   "source": [
    "Due to some unknown reason. the above did not print any results in the jupyter cell. so i copied the code to a python file. executed it and pasted the ouput here\n"
   ]
  },
  {
   "cell_type": "raw",
   "id": "6f539967",
   "metadata": {},
   "source": [
    "(base) C:\\Users\\vishnu.adepu\\Desktop>python es_poc.py\n",
    "Proc_one_Starttime -> 2021-09-22 18:41:59.354061\n",
    "Proc_two_Starttime -> 2021-09-22 18:41:59.363712\n",
    "Proc_two_Starttime -> 2021-09-22 18:41:59.367238\n",
    "Proc_two_Endtime -> 2021-09-22 18:42:04.369860\n",
    "Proc_two_Endtime -> 2021-09-22 18:42:04.369860\n",
    "Proc_one_Endtime -> 2021-09-22 18:42:04.369860"
   ]
  },
  {
   "cell_type": "markdown",
   "id": "c9ec578d",
   "metadata": {},
   "source": [
    "# 7. Create a date object of your day of birth.\n"
   ]
  },
  {
   "cell_type": "code",
   "execution_count": 8,
   "id": "eabb08d2",
   "metadata": {},
   "outputs": [
    {
     "name": "stdout",
     "output_type": "stream",
     "text": [
      "1997-04-22 00:00:00 <class 'datetime.datetime'>\n"
     ]
    }
   ],
   "source": [
    "from datetime import datetime\n",
    "my_dob = datetime.strptime('22/04/1997','%d/%m/%Y')\n",
    "print(my_dob, type(my_dob))"
   ]
  },
  {
   "cell_type": "markdown",
   "id": "7aa95dcb",
   "metadata": {},
   "source": [
    "# 8. What day of the week was your day of birth?\n"
   ]
  },
  {
   "cell_type": "code",
   "execution_count": 9,
   "id": "073e1ed5",
   "metadata": {},
   "outputs": [
    {
     "data": {
      "text/plain": [
       "'Tuesday'"
      ]
     },
     "execution_count": 9,
     "metadata": {},
     "output_type": "execute_result"
    }
   ],
   "source": [
    "from datetime import datetime\n",
    "my_dob = datetime(1997,4,22)\n",
    "my_dob.strftime(\"%A\")"
   ]
  },
  {
   "cell_type": "markdown",
   "id": "fc0b3368",
   "metadata": {},
   "source": [
    "# 9. When will you be (or when were you) 10,000 days old?\n"
   ]
  },
  {
   "cell_type": "code",
   "execution_count": 10,
   "id": "ed7398d7",
   "metadata": {},
   "outputs": [
    {
     "data": {
      "text/plain": [
       "datetime.datetime(1969, 12, 5, 0, 0)"
      ]
     },
     "execution_count": 10,
     "metadata": {},
     "output_type": "execute_result"
    }
   ],
   "source": [
    "from datetime import datetime, timedelta\n",
    "my_dob = datetime.strptime(\"22/04/1997\",'%d/%m/%Y')\n",
    "future_date = my_dob-timedelta(10000)\n",
    "future_date"
   ]
  },
  {
   "cell_type": "code",
   "execution_count": null,
   "id": "10c9f525",
   "metadata": {},
   "outputs": [],
   "source": []
  }
 ],
 "metadata": {
  "kernelspec": {
   "display_name": "Python 3 (ipykernel)",
   "language": "python",
   "name": "python3"
  },
  "language_info": {
   "codemirror_mode": {
    "name": "ipython",
    "version": 3
   },
   "file_extension": ".py",
   "mimetype": "text/x-python",
   "name": "python",
   "nbconvert_exporter": "python",
   "pygments_lexer": "ipython3",
   "version": "3.9.13"
  }
 },
 "nbformat": 4,
 "nbformat_minor": 5
}
