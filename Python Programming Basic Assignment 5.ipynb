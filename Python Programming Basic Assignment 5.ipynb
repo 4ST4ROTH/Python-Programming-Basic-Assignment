{
 "cells": [
  {
   "cell_type": "markdown",
   "id": "43881b78",
   "metadata": {},
   "source": [
    "# Write a Python Program to Find LCM?\n"
   ]
  },
  {
   "cell_type": "code",
   "execution_count": 17,
   "id": "58b744cc",
   "metadata": {},
   "outputs": [
    {
     "name": "stdout",
     "output_type": "stream",
     "text": [
      "Enter the 1st number here:5\n",
      "Enter the 2nd value here6\n",
      "30\n"
     ]
    }
   ],
   "source": [
    "num_1 = int(input(\"Enter the 1st number here:\"))\n",
    "num_2 = int(input(\"Enter the 2nd value here\"))\n",
    "\n",
    "try:\n",
    "    if num_1 > num_2:\n",
    "        greater = num_1\n",
    "    else:\n",
    "        greater = num_2\n",
    "        \n",
    "    while(True):\n",
    "        if (greater % num_1) == 0 and (greater % num_2) == 0:\n",
    "            lcm = greater\n",
    "            break\n",
    "        greater += 1\n",
    "    \n",
    "    print(lcm)\n",
    "    \n",
    "except Exception as e:\n",
    "    print(\"Invalid input\")"
   ]
  },
  {
   "cell_type": "markdown",
   "id": "49c11fb4",
   "metadata": {},
   "source": [
    "# Write a Python Program to Find HCF?\n"
   ]
  },
  {
   "cell_type": "code",
   "execution_count": 29,
   "id": "f66d9dd4",
   "metadata": {},
   "outputs": [
    {
     "name": "stdout",
     "output_type": "stream",
     "text": [
      "Enter the 1st number here:24\n",
      "Enter the 2nd value here36\n",
      "HCF of  24 and 36 is 12\n"
     ]
    }
   ],
   "source": [
    "num_1 = int(input(\"Enter the 1st number here:\"))\n",
    "num_2 = int(input(\"Enter the 2nd value here\"))\n",
    "\n",
    "try:\n",
    "    if num_1 > num_2:\n",
    "        greater = num_1\n",
    "        smaller = num_2\n",
    "    else:\n",
    "        greater = num_2\n",
    "        smaller = num_1\n",
    "        \n",
    "    remainder = (greater % smaller)\n",
    "    while remainder != 0:\n",
    "        (smaller % remainder)\n",
    "        break\n",
    "    print(\"HCF of \", num_1 , \"and\" , num_2 , \"is\" , remainder)\n",
    "            \n",
    "    \n",
    "except Exception as e:\n",
    "    print(\"Something wnet wrong\", e)\n",
    "                \n",
    "            "
   ]
  },
  {
   "cell_type": "markdown",
   "id": "0f7c4a91",
   "metadata": {},
   "source": [
    "# Write a Python Program to Convert Decimal to Binary, Octal and Hexadecimal?\n"
   ]
  },
  {
   "cell_type": "code",
   "execution_count": 48,
   "id": "d668048c",
   "metadata": {},
   "outputs": [
    {
     "name": "stdout",
     "output_type": "stream",
     "text": [
      "Enter the Decimal number here:69\n",
      "1000101"
     ]
    }
   ],
   "source": [
    "num = int(input(\"Enter the Decimal number here:\"))\n",
    "try:\n",
    "    #conersion of decimal to binary\n",
    "    b = []\n",
    "    while num != 0:\n",
    "        q = (num//2)\n",
    "        r = (num%2)\n",
    "        b.append(r)\n",
    "        num = q\n",
    "    for i in b[::-1]:\n",
    "        print(i , end = \"\")\n",
    "        \n",
    "    \n",
    "except Exception as e:\n",
    "    print(\"Something went wrong\")\n",
    "        "
   ]
  },
  {
   "cell_type": "code",
   "execution_count": 49,
   "id": "374cb005",
   "metadata": {},
   "outputs": [
    {
     "name": "stdout",
     "output_type": "stream",
     "text": [
      "Enter the Decimal number here:69\n",
      "105"
     ]
    }
   ],
   "source": [
    "num = int(input(\"Enter the Decimal number here:\"))\n",
    "try:\n",
    "    #conversion of decimal to octal\n",
    "    o = []\n",
    "    while num != 0:\n",
    "        q = (num//8)\n",
    "        r = (num%8)\n",
    "        o.append(r)\n",
    "        num = q\n",
    "    for i in o[::-1]:\n",
    "        print(i , end=\"\")\n",
    "    \n",
    "except Exception as e:\n",
    "    print(\"Something went wrong\")"
   ]
  },
  {
   "cell_type": "code",
   "execution_count": 52,
   "id": "ac364675",
   "metadata": {},
   "outputs": [
    {
     "name": "stdout",
     "output_type": "stream",
     "text": [
      "Enter the Decimal number here:69\n",
      "45"
     ]
    }
   ],
   "source": [
    "num = int(input(\"Enter the Decimal number here:\"))\n",
    "try:\n",
    "    #conversion of decimal to hexadecimal\n",
    "    h = []\n",
    "    while num != 0:\n",
    "        q = (num//16)\n",
    "        r = (num%16)\n",
    "        h.append(r)\n",
    "        num = q\n",
    "    for i in h[::-1]:\n",
    "        print(i , end=\"\")\n",
    "    \n",
    "except Exception as e:\n",
    "    print(\"Something went wrong\")"
   ]
  },
  {
   "cell_type": "markdown",
   "id": "94932610",
   "metadata": {},
   "source": [
    "# Write a Python Program To Find ASCII value of a character?\n"
   ]
  },
  {
   "cell_type": "code",
   "execution_count": 63,
   "id": "888199c0",
   "metadata": {},
   "outputs": [
    {
     "name": "stdout",
     "output_type": "stream",
     "text": [
      "Please enter the character here: M\n",
      "ASCII value of  M is 77\n"
     ]
    }
   ],
   "source": [
    "char = input(\"Please enter the character here: \")\n",
    "try:\n",
    "    a = ord(char)\n",
    "    print(\"ASCII value of \", char ,\"is\",a)\n",
    "    \n",
    "except Exception as e:\n",
    "    print(\"Invalid input\" , e)"
   ]
  },
  {
   "cell_type": "markdown",
   "id": "f3d69a01",
   "metadata": {},
   "source": [
    "# Write a Python Program to Make a Simple Calculator with 4 basic mathematical operations?\n"
   ]
  },
  {
   "cell_type": "code",
   "execution_count": 2,
   "id": "987a6f74",
   "metadata": {},
   "outputs": [
    {
     "name": "stdout",
     "output_type": "stream",
     "text": [
      "Enter the number here5.3\n",
      "enter the math operation signs you want to perform*\n",
      "Enter the number here4\n",
      "21.2\n"
     ]
    }
   ],
   "source": [
    "num_1 = float(input(\"Enter the number here\"))\n",
    "operation = input(\"enter the math operation signs you want to perform\")\n",
    "num_2 = float(input(\"Enter the number here\"))\n",
    "\n",
    "try:\n",
    "    if operation == \"+\":\n",
    "        a = num_1 + num_2\n",
    "        print(a)\n",
    "    elif operation == \"-\":\n",
    "        a = num_1 - num_2\n",
    "        print(a)\n",
    "    elif operation == \"*\":\n",
    "        a = num_1 * num_2\n",
    "        print(a)\n",
    "    elif operation == \"/\":\n",
    "        a = num_1 / num_2\n",
    "        print(a)\n",
    "    else:\n",
    "        pass\n",
    "\n",
    "except Exception as e:\n",
    "    print(\"Something went wrong\")"
   ]
  },
  {
   "cell_type": "code",
   "execution_count": null,
   "id": "91a7c21b",
   "metadata": {},
   "outputs": [],
   "source": []
  }
 ],
 "metadata": {
  "kernelspec": {
   "display_name": "Python 3 (ipykernel)",
   "language": "python",
   "name": "python3"
  },
  "language_info": {
   "codemirror_mode": {
    "name": "ipython",
    "version": 3
   },
   "file_extension": ".py",
   "mimetype": "text/x-python",
   "name": "python",
   "nbconvert_exporter": "python",
   "pygments_lexer": "ipython3",
   "version": "3.9.7"
  }
 },
 "nbformat": 4,
 "nbformat_minor": 5
}
